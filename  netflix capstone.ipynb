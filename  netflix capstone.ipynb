{
 "cells": [
  {
   "cell_type": "markdown",
   "id": "d9962a74-7321-4b5c-89fe-4590d5c2c3ef",
   "metadata": {
    "jp-MarkdownHeadingCollapsed": true
   },
   "source": [
    "## Project summary \n",
    "\n",
    "THE NETFLIX EDA PROJECT REVOLVES AROUND EXPLORING AND ANALYZING A DATASET RELATED TO NETFLIX CONTENT. THE DATASET LIKELY INCLUDES INFORMATION ABOUT MOVIES AND TV SHOWS AVAILABLE ON THE PLATFORM. THE PURPOSE OF THE PROJECT IS TO PERFORM EXPLORATORY DATA ANALYSIS TO EXTRACT MEANINGFUL INSIGHTS AND DRAW CONCLUSIONS FROM THE DATA."
   ]
  },
  {
   "cell_type": "markdown",
   "id": "8599c6de-a60d-4fbf-93ec-a71e9705a109",
   "metadata": {},
   "source": [
    "## 🎬 <b> Data Analysis Project: Content Platform Insights"
   ]
  },
  {
   "cell_type": "markdown",
   "id": "16074a7a-34ed-4943-b998-1101a445336e",
   "metadata": {},
   "source": [
    "## 🔍 1. Data Exploration\n",
    "- Load the dataset and inspect its structure.\n",
    "- Identify data types and important features.\n",
    "- Understand general patterns and detect any initial anomalies."
   ]
  },
  {
   "cell_type": "markdown",
   "id": "f9ca5219-ccbf-4375-b7a3-68271ec939a6",
   "metadata": {},
   "source": [
    "## 🧹 2. Data Cleaning\n",
    "Detect and handle missing values appropriately.\n",
    "- Remove duplicate records.\n",
    "- Standardize formats (e.g., dates, text case).\n",
    "- Fix inconsistent entries (e.g., typos in genre or country names)."
   ]
  },
  {
   "cell_type": "markdown",
   "id": "74172295-ee69-4793-9589-efffed0687cd",
   "metadata": {
    "jp-MarkdownHeadingCollapsed": true
   },
   "source": [
    "## 📊 3. Descriptive Statistics\n",
    "- Calculate:\n",
    "  - Mean, Median, Mode\n",
    "  - Range, Minimum, Maximum\n",
    "  - Standard Deviation, Variance\n",
    "- Summarize key numerical variables."
   ]
  },
  {
   "cell_type": "markdown",
   "id": "9b604e74-882a-4736-ae99-dff79ac5a93b",
   "metadata": {},
   "source": [
    "## 📈 4. Data Visualization\n",
    "## 🧠 5. Content Analysis\n",
    "## 🎞️ Part 1: Analytical Framework for Insight Extraction\n",
    "Formulated a comprehensive set of analytical questions aimed at uncovering actionable insights from the dataset.\"\n",
    "## ⏱️ Part 2: Bivariant Analysis \n",
    "Analyze variables trends with each other(e.g., How price effects the Demand ?).\n",
    "## ⏱️ Part 3: Multivarient Analysis \n",
    "Performed a detailed examination of the interrelationships between all variables to identify potential correlations"
   ]
  },
  {
   "cell_type": "markdown",
   "id": "40b80209-92d9-4232-99de-d00c40105102",
   "metadata": {},
   "source": [
    "## 🔍 1. Data Exploration"
   ]
  },
  {
   "cell_type": "code",
   "execution_count": 1,
   "id": "fd61f7b3-ceb1-4973-9714-4e39a0e8c0f6",
   "metadata": {},
   "outputs": [],
   "source": [
    "## Importing the libraries \n",
    "\n",
    "# Importing pandas for data manipulation and analysis\n",
    "import pandas as pd \n",
    "\n",
    "# Importing numpy for numerical operations and handling arrays\n",
    "import numpy as np\n",
    "\n",
    "# Importing matplotlib.pyplot for data visualization (plots, charts)\n",
    "import matplotlib.pyplot as plt\n",
    "\n",
    "\n",
    "# Importing seaborn for advanced statistical data visualization with beautiful default styles\n",
    "import seaborn as sns \n",
    "\n",
    "## Handling warnings\n",
    "# Importing the warnings library to control warning messages\n",
    "import warnings \n",
    "warnings.filterwarnings(\"ignore\")"
   ]
  },
  {
   "cell_type": "code",
   "execution_count": 2,
   "id": "6c965ad4-686b-4940-b068-2d935381ea84",
   "metadata": {},
   "outputs": [],
   "source": [
    "## data uploading \n",
    "df = pd.read_csv(\"netflix_titles.csv\")\n"
   ]
  },
  {
   "cell_type": "code",
   "execution_count": 3,
   "id": "c65ddaa5-6765-49ac-9a22-e636db1b96c9",
   "metadata": {},
   "outputs": [
    {
     "data": {
      "text/html": [
       "<div>\n",
       "<style scoped>\n",
       "    .dataframe tbody tr th:only-of-type {\n",
       "        vertical-align: middle;\n",
       "    }\n",
       "\n",
       "    .dataframe tbody tr th {\n",
       "        vertical-align: top;\n",
       "    }\n",
       "\n",
       "    .dataframe thead th {\n",
       "        text-align: right;\n",
       "    }\n",
       "</style>\n",
       "<table border=\"1\" class=\"dataframe\">\n",
       "  <thead>\n",
       "    <tr style=\"text-align: right;\">\n",
       "      <th></th>\n",
       "      <th>show_id</th>\n",
       "      <th>type</th>\n",
       "      <th>title</th>\n",
       "      <th>director</th>\n",
       "      <th>cast</th>\n",
       "      <th>country</th>\n",
       "      <th>date_added</th>\n",
       "      <th>release_year</th>\n",
       "      <th>rating</th>\n",
       "      <th>duration</th>\n",
       "      <th>listed_in</th>\n",
       "      <th>description</th>\n",
       "    </tr>\n",
       "  </thead>\n",
       "  <tbody>\n",
       "    <tr>\n",
       "      <th>0</th>\n",
       "      <td>s1</td>\n",
       "      <td>Movie</td>\n",
       "      <td>Dick Johnson Is Dead</td>\n",
       "      <td>Kirsten Johnson</td>\n",
       "      <td>NaN</td>\n",
       "      <td>United States</td>\n",
       "      <td>September 25, 2021</td>\n",
       "      <td>2020</td>\n",
       "      <td>PG-13</td>\n",
       "      <td>90 min</td>\n",
       "      <td>Documentaries</td>\n",
       "      <td>As her father nears the end of his life, filmm...</td>\n",
       "    </tr>\n",
       "    <tr>\n",
       "      <th>1</th>\n",
       "      <td>s2</td>\n",
       "      <td>TV Show</td>\n",
       "      <td>Blood &amp; Water</td>\n",
       "      <td>NaN</td>\n",
       "      <td>Ama Qamata, Khosi Ngema, Gail Mabalane, Thaban...</td>\n",
       "      <td>South Africa</td>\n",
       "      <td>September 24, 2021</td>\n",
       "      <td>2021</td>\n",
       "      <td>TV-MA</td>\n",
       "      <td>2 Seasons</td>\n",
       "      <td>International TV Shows, TV Dramas, TV Mysteries</td>\n",
       "      <td>After crossing paths at a party, a Cape Town t...</td>\n",
       "    </tr>\n",
       "    <tr>\n",
       "      <th>2</th>\n",
       "      <td>s3</td>\n",
       "      <td>TV Show</td>\n",
       "      <td>Ganglands</td>\n",
       "      <td>Julien Leclercq</td>\n",
       "      <td>Sami Bouajila, Tracy Gotoas, Samuel Jouy, Nabi...</td>\n",
       "      <td>NaN</td>\n",
       "      <td>September 24, 2021</td>\n",
       "      <td>2021</td>\n",
       "      <td>TV-MA</td>\n",
       "      <td>1 Season</td>\n",
       "      <td>Crime TV Shows, International TV Shows, TV Act...</td>\n",
       "      <td>To protect his family from a powerful drug lor...</td>\n",
       "    </tr>\n",
       "    <tr>\n",
       "      <th>3</th>\n",
       "      <td>s4</td>\n",
       "      <td>TV Show</td>\n",
       "      <td>Jailbirds New Orleans</td>\n",
       "      <td>NaN</td>\n",
       "      <td>NaN</td>\n",
       "      <td>NaN</td>\n",
       "      <td>September 24, 2021</td>\n",
       "      <td>2021</td>\n",
       "      <td>TV-MA</td>\n",
       "      <td>1 Season</td>\n",
       "      <td>Docuseries, Reality TV</td>\n",
       "      <td>Feuds, flirtations and toilet talk go down amo...</td>\n",
       "    </tr>\n",
       "    <tr>\n",
       "      <th>4</th>\n",
       "      <td>s5</td>\n",
       "      <td>TV Show</td>\n",
       "      <td>Kota Factory</td>\n",
       "      <td>NaN</td>\n",
       "      <td>Mayur More, Jitendra Kumar, Ranjan Raj, Alam K...</td>\n",
       "      <td>India</td>\n",
       "      <td>September 24, 2021</td>\n",
       "      <td>2021</td>\n",
       "      <td>TV-MA</td>\n",
       "      <td>2 Seasons</td>\n",
       "      <td>International TV Shows, Romantic TV Shows, TV ...</td>\n",
       "      <td>In a city of coaching centers known to train I...</td>\n",
       "    </tr>\n",
       "  </tbody>\n",
       "</table>\n",
       "</div>"
      ],
      "text/plain": [
       "  show_id     type                  title         director  \\\n",
       "0      s1    Movie   Dick Johnson Is Dead  Kirsten Johnson   \n",
       "1      s2  TV Show          Blood & Water              NaN   \n",
       "2      s3  TV Show              Ganglands  Julien Leclercq   \n",
       "3      s4  TV Show  Jailbirds New Orleans              NaN   \n",
       "4      s5  TV Show           Kota Factory              NaN   \n",
       "\n",
       "                                                cast        country  \\\n",
       "0                                                NaN  United States   \n",
       "1  Ama Qamata, Khosi Ngema, Gail Mabalane, Thaban...   South Africa   \n",
       "2  Sami Bouajila, Tracy Gotoas, Samuel Jouy, Nabi...            NaN   \n",
       "3                                                NaN            NaN   \n",
       "4  Mayur More, Jitendra Kumar, Ranjan Raj, Alam K...          India   \n",
       "\n",
       "           date_added  release_year rating   duration  \\\n",
       "0  September 25, 2021          2020  PG-13     90 min   \n",
       "1  September 24, 2021          2021  TV-MA  2 Seasons   \n",
       "2  September 24, 2021          2021  TV-MA   1 Season   \n",
       "3  September 24, 2021          2021  TV-MA   1 Season   \n",
       "4  September 24, 2021          2021  TV-MA  2 Seasons   \n",
       "\n",
       "                                           listed_in  \\\n",
       "0                                      Documentaries   \n",
       "1    International TV Shows, TV Dramas, TV Mysteries   \n",
       "2  Crime TV Shows, International TV Shows, TV Act...   \n",
       "3                             Docuseries, Reality TV   \n",
       "4  International TV Shows, Romantic TV Shows, TV ...   \n",
       "\n",
       "                                         description  \n",
       "0  As her father nears the end of his life, filmm...  \n",
       "1  After crossing paths at a party, a Cape Town t...  \n",
       "2  To protect his family from a powerful drug lor...  \n",
       "3  Feuds, flirtations and toilet talk go down amo...  \n",
       "4  In a city of coaching centers known to train I...  "
      ]
     },
     "execution_count": 3,
     "metadata": {},
     "output_type": "execute_result"
    }
   ],
   "source": [
    "## showing the data frame \n",
    "df.head()"
   ]
  },
  {
   "cell_type": "code",
   "execution_count": 4,
   "id": "9ce6330d-f816-4f4d-8e12-385fc6020550",
   "metadata": {},
   "outputs": [
    {
     "data": {
      "text/plain": [
       "(8807, 12)"
      ]
     },
     "execution_count": 4,
     "metadata": {},
     "output_type": "execute_result"
    }
   ],
   "source": [
    "## shape.dimension,columns, data stype \n",
    "df.shape"
   ]
  },
  {
   "cell_type": "code",
   "execution_count": 5,
   "id": "2a1c2f51-6be7-469e-add3-5649c7520d88",
   "metadata": {},
   "outputs": [
    {
     "data": {
      "text/plain": [
       "Index(['show_id', 'type', 'title', 'director', 'cast', 'country', 'date_added',\n",
       "       'release_year', 'rating', 'duration', 'listed_in', 'description'],\n",
       "      dtype='object')"
      ]
     },
     "execution_count": 5,
     "metadata": {},
     "output_type": "execute_result"
    }
   ],
   "source": [
    "df.columns"
   ]
  },
  {
   "cell_type": "code",
   "execution_count": 6,
   "id": "f6fb1901-4058-413a-88d6-d251f8285cf4",
   "metadata": {},
   "outputs": [
    {
     "name": "stdout",
     "output_type": "stream",
     "text": [
      "<class 'pandas.core.frame.DataFrame'>\n",
      "RangeIndex: 8807 entries, 0 to 8806\n",
      "Data columns (total 12 columns):\n",
      " #   Column        Non-Null Count  Dtype \n",
      "---  ------        --------------  ----- \n",
      " 0   show_id       8807 non-null   object\n",
      " 1   type          8807 non-null   object\n",
      " 2   title         8807 non-null   object\n",
      " 3   director      6173 non-null   object\n",
      " 4   cast          7982 non-null   object\n",
      " 5   country       7976 non-null   object\n",
      " 6   date_added    8797 non-null   object\n",
      " 7   release_year  8807 non-null   int64 \n",
      " 8   rating        8803 non-null   object\n",
      " 9   duration      8804 non-null   object\n",
      " 10  listed_in     8807 non-null   object\n",
      " 11  description   8807 non-null   object\n",
      "dtypes: int64(1), object(11)\n",
      "memory usage: 825.8+ KB\n"
     ]
    }
   ],
   "source": [
    "df.info()"
   ]
  },
  {
   "cell_type": "code",
   "execution_count": 7,
   "id": "31357114-07b7-4a26-b447-35aa74916185",
   "metadata": {},
   "outputs": [
    {
     "data": {
      "text/html": [
       "<div>\n",
       "<style scoped>\n",
       "    .dataframe tbody tr th:only-of-type {\n",
       "        vertical-align: middle;\n",
       "    }\n",
       "\n",
       "    .dataframe tbody tr th {\n",
       "        vertical-align: top;\n",
       "    }\n",
       "\n",
       "    .dataframe thead th {\n",
       "        text-align: right;\n",
       "    }\n",
       "</style>\n",
       "<table border=\"1\" class=\"dataframe\">\n",
       "  <thead>\n",
       "    <tr style=\"text-align: right;\">\n",
       "      <th></th>\n",
       "      <th>release_year</th>\n",
       "    </tr>\n",
       "  </thead>\n",
       "  <tbody>\n",
       "    <tr>\n",
       "      <th>count</th>\n",
       "      <td>8807.000000</td>\n",
       "    </tr>\n",
       "    <tr>\n",
       "      <th>mean</th>\n",
       "      <td>2014.180198</td>\n",
       "    </tr>\n",
       "    <tr>\n",
       "      <th>std</th>\n",
       "      <td>8.819312</td>\n",
       "    </tr>\n",
       "    <tr>\n",
       "      <th>min</th>\n",
       "      <td>1925.000000</td>\n",
       "    </tr>\n",
       "    <tr>\n",
       "      <th>25%</th>\n",
       "      <td>2013.000000</td>\n",
       "    </tr>\n",
       "    <tr>\n",
       "      <th>50%</th>\n",
       "      <td>2017.000000</td>\n",
       "    </tr>\n",
       "    <tr>\n",
       "      <th>75%</th>\n",
       "      <td>2019.000000</td>\n",
       "    </tr>\n",
       "    <tr>\n",
       "      <th>max</th>\n",
       "      <td>2021.000000</td>\n",
       "    </tr>\n",
       "  </tbody>\n",
       "</table>\n",
       "</div>"
      ],
      "text/plain": [
       "       release_year\n",
       "count   8807.000000\n",
       "mean    2014.180198\n",
       "std        8.819312\n",
       "min     1925.000000\n",
       "25%     2013.000000\n",
       "50%     2017.000000\n",
       "75%     2019.000000\n",
       "max     2021.000000"
      ]
     },
     "execution_count": 7,
     "metadata": {},
     "output_type": "execute_result"
    }
   ],
   "source": [
    "## Undestanding the numrical columns \n",
    "## showing one column beacuse, it has only one numical column\n",
    "df.describe()"
   ]
  },
  {
   "cell_type": "code",
   "execution_count": 8,
   "id": "cf931ef6-a35e-4e68-a077-fdbbb1f81923",
   "metadata": {},
   "outputs": [
    {
     "name": "stdout",
     "output_type": "stream",
     "text": [
      "show_id\n",
      "s1       1\n",
      "s2       1\n",
      "s3       1\n",
      "s4       1\n",
      "s5       1\n",
      "        ..\n",
      "s8803    1\n",
      "s8804    1\n",
      "s8805    1\n",
      "s8806    1\n",
      "s8807    1\n",
      "Name: count, Length: 8807, dtype: int64\n",
      "********************************************************************************************************************************************\n",
      "type\n",
      "Movie      6131\n",
      "TV Show    2676\n",
      "Name: count, dtype: int64\n",
      "********************************************************************************************************************************************\n",
      "title\n",
      "Dick Johnson Is Dead     1\n",
      "Blood & Water            1\n",
      "Ganglands                1\n",
      "Jailbirds New Orleans    1\n",
      "Kota Factory             1\n",
      "                        ..\n",
      "Zodiac                   1\n",
      "Zombie Dumb              1\n",
      "Zombieland               1\n",
      "Zoom                     1\n",
      "Zubaan                   1\n",
      "Name: count, Length: 8807, dtype: int64\n",
      "********************************************************************************************************************************************\n",
      "director\n",
      "Rajiv Chilaka              19\n",
      "Raúl Campos, Jan Suter     18\n",
      "Suhas Kadav                16\n",
      "Marcus Raboy               16\n",
      "Jay Karas                  14\n",
      "                           ..\n",
      "James Brown                 1\n",
      "Ivona Juka                  1\n",
      "Mu Chu                      1\n",
      "Chandra Prakash Dwivedi     1\n",
      "Majid Al Ansari             1\n",
      "Name: count, Length: 4528, dtype: int64\n",
      "********************************************************************************************************************************************\n",
      "cast\n",
      "David Attenborough                                                                                                                                             19\n",
      "Vatsal Dubey, Julie Tejwani, Rupa Bhimani, Jigna Bhardwaj, Rajesh Kava, Mousam, Swapnil                                                                        14\n",
      "Samuel West                                                                                                                                                    10\n",
      "Jeff Dunham                                                                                                                                                     7\n",
      "Michela Luci, Jamie Watson, Eric Peterson, Anna Claire Bartlam, Nicolas Aqui, Cory Doran, Julie Lemieux, Derek McGrath                                          6\n",
      "                                                                                                                                                               ..\n",
      "Ali Suliman, Saleh Bakri, Yasa, Ali Al-Jabri, Mansoor Alfeeli, Ahd                                                                                              1\n",
      "Mark Ruffalo, Jake Gyllenhaal, Robert Downey Jr., Anthony Edwards, Brian Cox, Elias Koteas, Donal Logue, John Carroll Lynch, Dermot Mulroney, Chloë Sevigny     1\n",
      "Jesse Eisenberg, Woody Harrelson, Emma Stone, Abigail Breslin, Amber Heard, Bill Murray, Derek Graf                                                             1\n",
      "Tim Allen, Courteney Cox, Chevy Chase, Kate Mara, Ryan Newman, Michael Cassidy, Spencer Breslin, Rip Torn, Kevin Zegers                                         1\n",
      "Logan Browning, Brandon P. Bell, DeRon Horton, Antoinette Robertson, John Patrick Amedori, Ashley Blaine Featherson, Marque Richardson, Giancarlo Esposito      1\n",
      "Name: count, Length: 7692, dtype: int64\n",
      "********************************************************************************************************************************************\n",
      "country\n",
      "United States                                    2818\n",
      "India                                             972\n",
      "United Kingdom                                    419\n",
      "Japan                                             245\n",
      "South Korea                                       199\n",
      "                                                 ... \n",
      "Russia, Spain                                       1\n",
      "Croatia, Slovenia, Serbia, Montenegro               1\n",
      "Japan, Canada                                       1\n",
      "United States, France, South Korea, Indonesia       1\n",
      "United Arab Emirates, Jordan                        1\n",
      "Name: count, Length: 748, dtype: int64\n",
      "********************************************************************************************************************************************\n",
      "date_added\n",
      "January 1, 2020       109\n",
      "November 1, 2019       89\n",
      "March 1, 2018          75\n",
      "December 31, 2019      74\n",
      "October 1, 2018        71\n",
      "                     ... \n",
      "February 2, 2017        1\n",
      "September 11, 2019      1\n",
      "May 17, 2015            1\n",
      "June 5, 2018            1\n",
      "October 14, 2017        1\n",
      "Name: count, Length: 1767, dtype: int64\n",
      "********************************************************************************************************************************************\n",
      "rating\n",
      "TV-MA       3207\n",
      "TV-14       2160\n",
      "TV-PG        863\n",
      "R            799\n",
      "PG-13        490\n",
      "TV-Y7        334\n",
      "TV-Y         307\n",
      "PG           287\n",
      "TV-G         220\n",
      "NR            80\n",
      "G             41\n",
      "TV-Y7-FV       6\n",
      "NC-17          3\n",
      "UR             3\n",
      "74 min         1\n",
      "84 min         1\n",
      "66 min         1\n",
      "Name: count, dtype: int64\n",
      "********************************************************************************************************************************************\n",
      "duration\n",
      "1 Season     1793\n",
      "2 Seasons     425\n",
      "3 Seasons     199\n",
      "90 min        152\n",
      "97 min        146\n",
      "             ... \n",
      "228 min         1\n",
      "18 min          1\n",
      "205 min         1\n",
      "201 min         1\n",
      "191 min         1\n",
      "Name: count, Length: 220, dtype: int64\n",
      "********************************************************************************************************************************************\n",
      "listed_in\n",
      "Dramas, International Movies                        362\n",
      "Documentaries                                       359\n",
      "Stand-Up Comedy                                     334\n",
      "Comedies, Dramas, International Movies              274\n",
      "Dramas, Independent Movies, International Movies    252\n",
      "                                                   ... \n",
      "Action & Adventure, Cult Movies                       1\n",
      "Action & Adventure, Comedies, Music & Musicals        1\n",
      "Classic Movies, Horror Movies, Thrillers              1\n",
      "Children & Family Movies, Classic Movies, Dramas      1\n",
      "Cult Movies, Dramas, Thrillers                        1\n",
      "Name: count, Length: 514, dtype: int64\n",
      "********************************************************************************************************************************************\n",
      "description\n",
      "Paranormal activity at a lush, abandoned property alarms a group eager to redevelop the site, but the eerie events may not be as unearthly as they think.    4\n",
      "A surly septuagenarian gets another chance at her 20s after having her photo snapped at a studio that magically takes 50 years off her life.                 3\n",
      "Multiple women report their husbands as missing but when it appears they are looking for the same man, a police officer traces their cryptic connection.     3\n",
      "Challenged to compose 100 songs before he can marry the girl he loves, a tortured but passionate singer-songwriter embarks on a poignant musical journey.    3\n",
      "As a woman scours Hyderabad for her missing husband, she becomes entangled in a conspiracy that suggests there’s more to the mystery than meets the eye.     2\n",
      "                                                                                                                                                            ..\n",
      "A gifted young ballet dancer struggles to find her footing in an uptight ballet school that brings her and her family to a brand-new neighborhood.           1\n",
      "After stepping in to revitalize his family's hotel, a money-minded businessman clashes with the hotel's cheery, Christmas-loving decorator.                  1\n",
      "A soap opera producer, director and makeup artist each face wrenching family turmoil, from teen rebellion and marital infidelity to Alzheimer's.             1\n",
      "Laida and Miggy think they've found perfect happiness with each other, until their burgeoning careers force them into a long-distance relationship.          1\n",
      "A scrappy but poor boy worms his way into a tycoon's dysfunctional family, while facing his fear of music and the truth about his past.                      1\n",
      "Name: count, Length: 8775, dtype: int64\n",
      "********************************************************************************************************************************************\n"
     ]
    }
   ],
   "source": [
    "# Print value counts for all object-type columns with separator\n",
    "for i in df.select_dtypes(include = [\"object\"]):\n",
    "    a = df[i].value_counts()\n",
    "    print(f\"{a}\")\n",
    "    print(\"*******\"*20)"
   ]
  },
  {
   "cell_type": "code",
   "execution_count": 9,
   "id": "3b80d6e8-180d-443a-9075-d2c6d8f604ac",
   "metadata": {},
   "outputs": [
    {
     "name": "stdout",
     "output_type": "stream",
     "text": [
      "missing values\n",
      "\n",
      "show_id            0\n",
      "type               0\n",
      "title              0\n",
      "director        2634\n",
      "cast             825\n",
      "country          831\n",
      "date_added        10\n",
      "release_year       0\n",
      "rating             4\n",
      "duration           3\n",
      "listed_in          0\n",
      "description        0\n",
      "dtype: int64\n"
     ]
    }
   ],
   "source": [
    "# Display the count of missing values in each column\n",
    "print(\"missing values\")\n",
    "print()\n",
    "print(df.isnull().sum())\n",
    "      "
   ]
  },
  {
   "cell_type": "code",
   "execution_count": 10,
   "id": "001c205b-5412-4afe-be90-93fc8206bdbd",
   "metadata": {},
   "outputs": [
    {
     "name": "stdout",
     "output_type": "stream",
     "text": [
      "missing values\n",
      "\n",
      "show_id          0.000000\n",
      "type             0.000000\n",
      "title            0.000000\n",
      "director        29.908028\n",
      "cast             9.367549\n",
      "country          9.435676\n",
      "date_added       0.113546\n",
      "release_year     0.000000\n",
      "rating           0.045418\n",
      "duration         0.034064\n",
      "listed_in        0.000000\n",
      "description      0.000000\n",
      "dtype: float64\n"
     ]
    }
   ],
   "source": [
    "print(\"missing values\")\n",
    "print()\n",
    "print(df.isnull().sum()/len(df)*100) "
   ]
  },
  {
   "cell_type": "markdown",
   "id": "b35c5bc9-17b8-48cb-9f71-2ef062f74fcd",
   "metadata": {},
   "source": [
    "## Handling Missing Values "
   ]
  },
  {
   "cell_type": "code",
   "execution_count": 11,
   "id": "2c14687c-27b6-41fb-aab2-43ad9c936240",
   "metadata": {},
   "outputs": [],
   "source": [
    "df.drop_duplicates(inplace = True)"
   ]
  },
  {
   "cell_type": "code",
   "execution_count": 12,
   "id": "bc2e2792-aa82-41d3-8ad3-7df05dc38502",
   "metadata": {},
   "outputs": [],
   "source": [
    "## director \n",
    "df[\"director\"] = df[\"director\"].fillna(\"No Director\")"
   ]
  },
  {
   "cell_type": "code",
   "execution_count": 13,
   "id": "ef13357f-b317-4d07-8708-84f6e91747f2",
   "metadata": {},
   "outputs": [
    {
     "data": {
      "text/plain": [
       "show_id           0\n",
       "type              0\n",
       "title             0\n",
       "director          0\n",
       "cast            825\n",
       "country         831\n",
       "date_added       10\n",
       "release_year      0\n",
       "rating            4\n",
       "duration          3\n",
       "listed_in         0\n",
       "description       0\n",
       "dtype: int64"
      ]
     },
     "execution_count": 13,
     "metadata": {},
     "output_type": "execute_result"
    }
   ],
   "source": [
    "df.isnull().sum()"
   ]
  },
  {
   "cell_type": "code",
   "execution_count": 14,
   "id": "b5381ca3-ba85-4231-b439-1e25051a8b50",
   "metadata": {},
   "outputs": [
    {
     "data": {
      "text/html": [
       "<div>\n",
       "<style scoped>\n",
       "    .dataframe tbody tr th:only-of-type {\n",
       "        vertical-align: middle;\n",
       "    }\n",
       "\n",
       "    .dataframe tbody tr th {\n",
       "        vertical-align: top;\n",
       "    }\n",
       "\n",
       "    .dataframe thead th {\n",
       "        text-align: right;\n",
       "    }\n",
       "</style>\n",
       "<table border=\"1\" class=\"dataframe\">\n",
       "  <thead>\n",
       "    <tr style=\"text-align: right;\">\n",
       "      <th></th>\n",
       "      <th>show_id</th>\n",
       "      <th>type</th>\n",
       "      <th>title</th>\n",
       "      <th>director</th>\n",
       "      <th>cast</th>\n",
       "      <th>country</th>\n",
       "      <th>date_added</th>\n",
       "      <th>release_year</th>\n",
       "      <th>rating</th>\n",
       "      <th>duration</th>\n",
       "      <th>listed_in</th>\n",
       "      <th>description</th>\n",
       "    </tr>\n",
       "  </thead>\n",
       "  <tbody>\n",
       "    <tr>\n",
       "      <th>2</th>\n",
       "      <td>s3</td>\n",
       "      <td>TV Show</td>\n",
       "      <td>Ganglands</td>\n",
       "      <td>Julien Leclercq</td>\n",
       "      <td>Sami Bouajila, Tracy Gotoas, Samuel Jouy, Nabi...</td>\n",
       "      <td>NaN</td>\n",
       "      <td>September 24, 2021</td>\n",
       "      <td>2021</td>\n",
       "      <td>TV-MA</td>\n",
       "      <td>1 Season</td>\n",
       "      <td>Crime TV Shows, International TV Shows, TV Act...</td>\n",
       "      <td>To protect his family from a powerful drug lor...</td>\n",
       "    </tr>\n",
       "    <tr>\n",
       "      <th>3</th>\n",
       "      <td>s4</td>\n",
       "      <td>TV Show</td>\n",
       "      <td>Jailbirds New Orleans</td>\n",
       "      <td>No Director</td>\n",
       "      <td>NaN</td>\n",
       "      <td>NaN</td>\n",
       "      <td>September 24, 2021</td>\n",
       "      <td>2021</td>\n",
       "      <td>TV-MA</td>\n",
       "      <td>1 Season</td>\n",
       "      <td>Docuseries, Reality TV</td>\n",
       "      <td>Feuds, flirtations and toilet talk go down amo...</td>\n",
       "    </tr>\n",
       "    <tr>\n",
       "      <th>5</th>\n",
       "      <td>s6</td>\n",
       "      <td>TV Show</td>\n",
       "      <td>Midnight Mass</td>\n",
       "      <td>Mike Flanagan</td>\n",
       "      <td>Kate Siegel, Zach Gilford, Hamish Linklater, H...</td>\n",
       "      <td>NaN</td>\n",
       "      <td>September 24, 2021</td>\n",
       "      <td>2021</td>\n",
       "      <td>TV-MA</td>\n",
       "      <td>1 Season</td>\n",
       "      <td>TV Dramas, TV Horror, TV Mysteries</td>\n",
       "      <td>The arrival of a charismatic young priest brin...</td>\n",
       "    </tr>\n",
       "    <tr>\n",
       "      <th>6</th>\n",
       "      <td>s7</td>\n",
       "      <td>Movie</td>\n",
       "      <td>My Little Pony: A New Generation</td>\n",
       "      <td>Robert Cullen, José Luis Ucha</td>\n",
       "      <td>Vanessa Hudgens, Kimiko Glenn, James Marsden, ...</td>\n",
       "      <td>NaN</td>\n",
       "      <td>September 24, 2021</td>\n",
       "      <td>2021</td>\n",
       "      <td>PG</td>\n",
       "      <td>91 min</td>\n",
       "      <td>Children &amp; Family Movies</td>\n",
       "      <td>Equestria's divided. But a bright-eyed hero be...</td>\n",
       "    </tr>\n",
       "    <tr>\n",
       "      <th>10</th>\n",
       "      <td>s11</td>\n",
       "      <td>TV Show</td>\n",
       "      <td>Vendetta: Truth, Lies and The Mafia</td>\n",
       "      <td>No Director</td>\n",
       "      <td>NaN</td>\n",
       "      <td>NaN</td>\n",
       "      <td>September 24, 2021</td>\n",
       "      <td>2021</td>\n",
       "      <td>TV-MA</td>\n",
       "      <td>1 Season</td>\n",
       "      <td>Crime TV Shows, Docuseries, International TV S...</td>\n",
       "      <td>Sicily boasts a bold \"Anti-Mafia\" coalition. B...</td>\n",
       "    </tr>\n",
       "    <tr>\n",
       "      <th>...</th>\n",
       "      <td>...</td>\n",
       "      <td>...</td>\n",
       "      <td>...</td>\n",
       "      <td>...</td>\n",
       "      <td>...</td>\n",
       "      <td>...</td>\n",
       "      <td>...</td>\n",
       "      <td>...</td>\n",
       "      <td>...</td>\n",
       "      <td>...</td>\n",
       "      <td>...</td>\n",
       "      <td>...</td>\n",
       "    </tr>\n",
       "    <tr>\n",
       "      <th>8718</th>\n",
       "      <td>s8719</td>\n",
       "      <td>Movie</td>\n",
       "      <td>Westside vs. the World</td>\n",
       "      <td>Michael Fahey</td>\n",
       "      <td>Ron Perlman, Louie Simmons</td>\n",
       "      <td>NaN</td>\n",
       "      <td>August 9, 2019</td>\n",
       "      <td>2019</td>\n",
       "      <td>TV-MA</td>\n",
       "      <td>96 min</td>\n",
       "      <td>Documentaries, Sports Movies</td>\n",
       "      <td>A look into the journey of influential strengt...</td>\n",
       "    </tr>\n",
       "    <tr>\n",
       "      <th>8759</th>\n",
       "      <td>s8760</td>\n",
       "      <td>Movie</td>\n",
       "      <td>World's Weirdest Homes</td>\n",
       "      <td>Storm Theunissen</td>\n",
       "      <td>Charlie Luxton</td>\n",
       "      <td>NaN</td>\n",
       "      <td>February 1, 2019</td>\n",
       "      <td>2015</td>\n",
       "      <td>TV-PG</td>\n",
       "      <td>49 min</td>\n",
       "      <td>Movies</td>\n",
       "      <td>From a bubble-shaped palace to an island built...</td>\n",
       "    </tr>\n",
       "    <tr>\n",
       "      <th>8783</th>\n",
       "      <td>s8784</td>\n",
       "      <td>TV Show</td>\n",
       "      <td>Yoko</td>\n",
       "      <td>No Director</td>\n",
       "      <td>Eileen Stevens, Alyson Leigh Rosenfeld, Sarah ...</td>\n",
       "      <td>NaN</td>\n",
       "      <td>June 23, 2018</td>\n",
       "      <td>2016</td>\n",
       "      <td>TV-Y</td>\n",
       "      <td>1 Season</td>\n",
       "      <td>Kids' TV</td>\n",
       "      <td>Friends Mai, Oto and Vik's games at the park b...</td>\n",
       "    </tr>\n",
       "    <tr>\n",
       "      <th>8785</th>\n",
       "      <td>s8786</td>\n",
       "      <td>TV Show</td>\n",
       "      <td>YOM</td>\n",
       "      <td>No Director</td>\n",
       "      <td>Sairaj, Devyani Dagaonkar, Ketan Singh, Mayur ...</td>\n",
       "      <td>NaN</td>\n",
       "      <td>June 7, 2018</td>\n",
       "      <td>2016</td>\n",
       "      <td>TV-Y7</td>\n",
       "      <td>1 Season</td>\n",
       "      <td>Kids' TV</td>\n",
       "      <td>With the mind of a human being, and the body o...</td>\n",
       "    </tr>\n",
       "    <tr>\n",
       "      <th>8803</th>\n",
       "      <td>s8804</td>\n",
       "      <td>TV Show</td>\n",
       "      <td>Zombie Dumb</td>\n",
       "      <td>No Director</td>\n",
       "      <td>NaN</td>\n",
       "      <td>NaN</td>\n",
       "      <td>July 1, 2019</td>\n",
       "      <td>2018</td>\n",
       "      <td>TV-Y7</td>\n",
       "      <td>2 Seasons</td>\n",
       "      <td>Kids' TV, Korean TV Shows, TV Comedies</td>\n",
       "      <td>While living alone in a spooky town, a young g...</td>\n",
       "    </tr>\n",
       "  </tbody>\n",
       "</table>\n",
       "<p>831 rows × 12 columns</p>\n",
       "</div>"
      ],
      "text/plain": [
       "     show_id     type                                title  \\\n",
       "2         s3  TV Show                            Ganglands   \n",
       "3         s4  TV Show                Jailbirds New Orleans   \n",
       "5         s6  TV Show                        Midnight Mass   \n",
       "6         s7    Movie     My Little Pony: A New Generation   \n",
       "10       s11  TV Show  Vendetta: Truth, Lies and The Mafia   \n",
       "...      ...      ...                                  ...   \n",
       "8718   s8719    Movie               Westside vs. the World   \n",
       "8759   s8760    Movie               World's Weirdest Homes   \n",
       "8783   s8784  TV Show                                 Yoko   \n",
       "8785   s8786  TV Show                                  YOM   \n",
       "8803   s8804  TV Show                          Zombie Dumb   \n",
       "\n",
       "                           director  \\\n",
       "2                   Julien Leclercq   \n",
       "3                       No Director   \n",
       "5                     Mike Flanagan   \n",
       "6     Robert Cullen, José Luis Ucha   \n",
       "10                      No Director   \n",
       "...                             ...   \n",
       "8718                  Michael Fahey   \n",
       "8759               Storm Theunissen   \n",
       "8783                    No Director   \n",
       "8785                    No Director   \n",
       "8803                    No Director   \n",
       "\n",
       "                                                   cast country  \\\n",
       "2     Sami Bouajila, Tracy Gotoas, Samuel Jouy, Nabi...     NaN   \n",
       "3                                                   NaN     NaN   \n",
       "5     Kate Siegel, Zach Gilford, Hamish Linklater, H...     NaN   \n",
       "6     Vanessa Hudgens, Kimiko Glenn, James Marsden, ...     NaN   \n",
       "10                                                  NaN     NaN   \n",
       "...                                                 ...     ...   \n",
       "8718                         Ron Perlman, Louie Simmons     NaN   \n",
       "8759                                     Charlie Luxton     NaN   \n",
       "8783  Eileen Stevens, Alyson Leigh Rosenfeld, Sarah ...     NaN   \n",
       "8785  Sairaj, Devyani Dagaonkar, Ketan Singh, Mayur ...     NaN   \n",
       "8803                                                NaN     NaN   \n",
       "\n",
       "              date_added  release_year rating   duration  \\\n",
       "2     September 24, 2021          2021  TV-MA   1 Season   \n",
       "3     September 24, 2021          2021  TV-MA   1 Season   \n",
       "5     September 24, 2021          2021  TV-MA   1 Season   \n",
       "6     September 24, 2021          2021     PG     91 min   \n",
       "10    September 24, 2021          2021  TV-MA   1 Season   \n",
       "...                  ...           ...    ...        ...   \n",
       "8718      August 9, 2019          2019  TV-MA     96 min   \n",
       "8759    February 1, 2019          2015  TV-PG     49 min   \n",
       "8783       June 23, 2018          2016   TV-Y   1 Season   \n",
       "8785        June 7, 2018          2016  TV-Y7   1 Season   \n",
       "8803        July 1, 2019          2018  TV-Y7  2 Seasons   \n",
       "\n",
       "                                              listed_in  \\\n",
       "2     Crime TV Shows, International TV Shows, TV Act...   \n",
       "3                                Docuseries, Reality TV   \n",
       "5                    TV Dramas, TV Horror, TV Mysteries   \n",
       "6                              Children & Family Movies   \n",
       "10    Crime TV Shows, Docuseries, International TV S...   \n",
       "...                                                 ...   \n",
       "8718                       Documentaries, Sports Movies   \n",
       "8759                                             Movies   \n",
       "8783                                           Kids' TV   \n",
       "8785                                           Kids' TV   \n",
       "8803             Kids' TV, Korean TV Shows, TV Comedies   \n",
       "\n",
       "                                            description  \n",
       "2     To protect his family from a powerful drug lor...  \n",
       "3     Feuds, flirtations and toilet talk go down amo...  \n",
       "5     The arrival of a charismatic young priest brin...  \n",
       "6     Equestria's divided. But a bright-eyed hero be...  \n",
       "10    Sicily boasts a bold \"Anti-Mafia\" coalition. B...  \n",
       "...                                                 ...  \n",
       "8718  A look into the journey of influential strengt...  \n",
       "8759  From a bubble-shaped palace to an island built...  \n",
       "8783  Friends Mai, Oto and Vik's games at the park b...  \n",
       "8785  With the mind of a human being, and the body o...  \n",
       "8803  While living alone in a spooky town, a young g...  \n",
       "\n",
       "[831 rows x 12 columns]"
      ]
     },
     "execution_count": 14,
     "metadata": {},
     "output_type": "execute_result"
    }
   ],
   "source": [
    "df[df[\"country\"].isnull() == True]"
   ]
  },
  {
   "cell_type": "code",
   "execution_count": 15,
   "id": "df431e89-6e2e-4a63-9939-e9503d198009",
   "metadata": {},
   "outputs": [],
   "source": [
    "df[\"country\"] = df[\"country\"].fillna(\"Unknown\")"
   ]
  },
  {
   "cell_type": "code",
   "execution_count": 16,
   "id": "f44398ed-1752-46fb-b571-ac52e4b59dc8",
   "metadata": {},
   "outputs": [
    {
     "data": {
      "text/plain": [
       "show_id           0\n",
       "type              0\n",
       "title             0\n",
       "director          0\n",
       "cast            825\n",
       "country           0\n",
       "date_added       10\n",
       "release_year      0\n",
       "rating            4\n",
       "duration          3\n",
       "listed_in         0\n",
       "description       0\n",
       "dtype: int64"
      ]
     },
     "execution_count": 16,
     "metadata": {},
     "output_type": "execute_result"
    }
   ],
   "source": [
    "df.isnull().sum()"
   ]
  },
  {
   "cell_type": "code",
   "execution_count": 17,
   "id": "38b76b34-8f59-4973-aa41-f8647651ab56",
   "metadata": {},
   "outputs": [],
   "source": [
    "df[\"cast\"] = df[\"cast\"].fillna(\" No cast Info\")"
   ]
  },
  {
   "cell_type": "code",
   "execution_count": 18,
   "id": "0155fb2e-de97-4bb7-ba97-ce335c095b49",
   "metadata": {},
   "outputs": [
    {
     "data": {
      "text/plain": [
       "show_id          0\n",
       "type             0\n",
       "title            0\n",
       "director         0\n",
       "cast             0\n",
       "country          0\n",
       "date_added      10\n",
       "release_year     0\n",
       "rating           4\n",
       "duration         3\n",
       "listed_in        0\n",
       "description      0\n",
       "dtype: int64"
      ]
     },
     "execution_count": 18,
     "metadata": {},
     "output_type": "execute_result"
    }
   ],
   "source": [
    "df.isnull().sum()"
   ]
  },
  {
   "cell_type": "code",
   "execution_count": 19,
   "id": "a93ce441-0968-41b0-be3a-b71861777cb7",
   "metadata": {},
   "outputs": [],
   "source": [
    "## Date_Added \n",
    "df[\"date_added\"] = df[\"date_added\"].fillna(\"january 1, 2021\")"
   ]
  },
  {
   "cell_type": "code",
   "execution_count": 20,
   "id": "442a3fbb-166a-426a-b901-4d51bdb643a2",
   "metadata": {},
   "outputs": [],
   "source": [
    "## data_added - changing the data type \n",
    "df[\"date_added\"] = pd.to_datetime(df[\"date_added\"] , format = \"mixed\")"
   ]
  },
  {
   "cell_type": "code",
   "execution_count": 21,
   "id": "a6002a87-f07b-41b4-bb8f-6a6a3133d105",
   "metadata": {},
   "outputs": [
    {
     "name": "stdout",
     "output_type": "stream",
     "text": [
      "<class 'pandas.core.frame.DataFrame'>\n",
      "RangeIndex: 8807 entries, 0 to 8806\n",
      "Data columns (total 12 columns):\n",
      " #   Column        Non-Null Count  Dtype         \n",
      "---  ------        --------------  -----         \n",
      " 0   show_id       8807 non-null   object        \n",
      " 1   type          8807 non-null   object        \n",
      " 2   title         8807 non-null   object        \n",
      " 3   director      8807 non-null   object        \n",
      " 4   cast          8807 non-null   object        \n",
      " 5   country       8807 non-null   object        \n",
      " 6   date_added    8807 non-null   datetime64[ns]\n",
      " 7   release_year  8807 non-null   int64         \n",
      " 8   rating        8803 non-null   object        \n",
      " 9   duration      8804 non-null   object        \n",
      " 10  listed_in     8807 non-null   object        \n",
      " 11  description   8807 non-null   object        \n",
      "dtypes: datetime64[ns](1), int64(1), object(10)\n",
      "memory usage: 825.8+ KB\n"
     ]
    }
   ],
   "source": [
    "df.info()"
   ]
  },
  {
   "cell_type": "code",
   "execution_count": 22,
   "id": "a5ec08ed-750d-4f81-aa6b-4fbb7b0d1ce9",
   "metadata": {},
   "outputs": [],
   "source": [
    "## feature Engineering - creating year columns when the movie or show was added \n",
    "df[\"added_year\"] = df[\"date_added\"].dt.year"
   ]
  },
  {
   "cell_type": "code",
   "execution_count": 23,
   "id": "a16d4db0-2610-4f87-aa06-07fb6312b2da",
   "metadata": {},
   "outputs": [
    {
     "data": {
      "text/html": [
       "<div>\n",
       "<style scoped>\n",
       "    .dataframe tbody tr th:only-of-type {\n",
       "        vertical-align: middle;\n",
       "    }\n",
       "\n",
       "    .dataframe tbody tr th {\n",
       "        vertical-align: top;\n",
       "    }\n",
       "\n",
       "    .dataframe thead th {\n",
       "        text-align: right;\n",
       "    }\n",
       "</style>\n",
       "<table border=\"1\" class=\"dataframe\">\n",
       "  <thead>\n",
       "    <tr style=\"text-align: right;\">\n",
       "      <th></th>\n",
       "      <th>show_id</th>\n",
       "      <th>type</th>\n",
       "      <th>title</th>\n",
       "      <th>director</th>\n",
       "      <th>cast</th>\n",
       "      <th>country</th>\n",
       "      <th>date_added</th>\n",
       "      <th>release_year</th>\n",
       "      <th>rating</th>\n",
       "      <th>duration</th>\n",
       "      <th>listed_in</th>\n",
       "      <th>description</th>\n",
       "      <th>added_year</th>\n",
       "    </tr>\n",
       "  </thead>\n",
       "  <tbody>\n",
       "    <tr>\n",
       "      <th>0</th>\n",
       "      <td>s1</td>\n",
       "      <td>Movie</td>\n",
       "      <td>Dick Johnson Is Dead</td>\n",
       "      <td>Kirsten Johnson</td>\n",
       "      <td>No cast Info</td>\n",
       "      <td>United States</td>\n",
       "      <td>2021-09-25</td>\n",
       "      <td>2020</td>\n",
       "      <td>PG-13</td>\n",
       "      <td>90 min</td>\n",
       "      <td>Documentaries</td>\n",
       "      <td>As her father nears the end of his life, filmm...</td>\n",
       "      <td>2021</td>\n",
       "    </tr>\n",
       "    <tr>\n",
       "      <th>1</th>\n",
       "      <td>s2</td>\n",
       "      <td>TV Show</td>\n",
       "      <td>Blood &amp; Water</td>\n",
       "      <td>No Director</td>\n",
       "      <td>Ama Qamata, Khosi Ngema, Gail Mabalane, Thaban...</td>\n",
       "      <td>South Africa</td>\n",
       "      <td>2021-09-24</td>\n",
       "      <td>2021</td>\n",
       "      <td>TV-MA</td>\n",
       "      <td>2 Seasons</td>\n",
       "      <td>International TV Shows, TV Dramas, TV Mysteries</td>\n",
       "      <td>After crossing paths at a party, a Cape Town t...</td>\n",
       "      <td>2021</td>\n",
       "    </tr>\n",
       "    <tr>\n",
       "      <th>2</th>\n",
       "      <td>s3</td>\n",
       "      <td>TV Show</td>\n",
       "      <td>Ganglands</td>\n",
       "      <td>Julien Leclercq</td>\n",
       "      <td>Sami Bouajila, Tracy Gotoas, Samuel Jouy, Nabi...</td>\n",
       "      <td>Unknown</td>\n",
       "      <td>2021-09-24</td>\n",
       "      <td>2021</td>\n",
       "      <td>TV-MA</td>\n",
       "      <td>1 Season</td>\n",
       "      <td>Crime TV Shows, International TV Shows, TV Act...</td>\n",
       "      <td>To protect his family from a powerful drug lor...</td>\n",
       "      <td>2021</td>\n",
       "    </tr>\n",
       "    <tr>\n",
       "      <th>3</th>\n",
       "      <td>s4</td>\n",
       "      <td>TV Show</td>\n",
       "      <td>Jailbirds New Orleans</td>\n",
       "      <td>No Director</td>\n",
       "      <td>No cast Info</td>\n",
       "      <td>Unknown</td>\n",
       "      <td>2021-09-24</td>\n",
       "      <td>2021</td>\n",
       "      <td>TV-MA</td>\n",
       "      <td>1 Season</td>\n",
       "      <td>Docuseries, Reality TV</td>\n",
       "      <td>Feuds, flirtations and toilet talk go down amo...</td>\n",
       "      <td>2021</td>\n",
       "    </tr>\n",
       "    <tr>\n",
       "      <th>4</th>\n",
       "      <td>s5</td>\n",
       "      <td>TV Show</td>\n",
       "      <td>Kota Factory</td>\n",
       "      <td>No Director</td>\n",
       "      <td>Mayur More, Jitendra Kumar, Ranjan Raj, Alam K...</td>\n",
       "      <td>India</td>\n",
       "      <td>2021-09-24</td>\n",
       "      <td>2021</td>\n",
       "      <td>TV-MA</td>\n",
       "      <td>2 Seasons</td>\n",
       "      <td>International TV Shows, Romantic TV Shows, TV ...</td>\n",
       "      <td>In a city of coaching centers known to train I...</td>\n",
       "      <td>2021</td>\n",
       "    </tr>\n",
       "  </tbody>\n",
       "</table>\n",
       "</div>"
      ],
      "text/plain": [
       "  show_id     type                  title         director  \\\n",
       "0      s1    Movie   Dick Johnson Is Dead  Kirsten Johnson   \n",
       "1      s2  TV Show          Blood & Water      No Director   \n",
       "2      s3  TV Show              Ganglands  Julien Leclercq   \n",
       "3      s4  TV Show  Jailbirds New Orleans      No Director   \n",
       "4      s5  TV Show           Kota Factory      No Director   \n",
       "\n",
       "                                                cast        country  \\\n",
       "0                                       No cast Info  United States   \n",
       "1  Ama Qamata, Khosi Ngema, Gail Mabalane, Thaban...   South Africa   \n",
       "2  Sami Bouajila, Tracy Gotoas, Samuel Jouy, Nabi...        Unknown   \n",
       "3                                       No cast Info        Unknown   \n",
       "4  Mayur More, Jitendra Kumar, Ranjan Raj, Alam K...          India   \n",
       "\n",
       "  date_added  release_year rating   duration  \\\n",
       "0 2021-09-25          2020  PG-13     90 min   \n",
       "1 2021-09-24          2021  TV-MA  2 Seasons   \n",
       "2 2021-09-24          2021  TV-MA   1 Season   \n",
       "3 2021-09-24          2021  TV-MA   1 Season   \n",
       "4 2021-09-24          2021  TV-MA  2 Seasons   \n",
       "\n",
       "                                           listed_in  \\\n",
       "0                                      Documentaries   \n",
       "1    International TV Shows, TV Dramas, TV Mysteries   \n",
       "2  Crime TV Shows, International TV Shows, TV Act...   \n",
       "3                             Docuseries, Reality TV   \n",
       "4  International TV Shows, Romantic TV Shows, TV ...   \n",
       "\n",
       "                                         description  added_year  \n",
       "0  As her father nears the end of his life, filmm...        2021  \n",
       "1  After crossing paths at a party, a Cape Town t...        2021  \n",
       "2  To protect his family from a powerful drug lor...        2021  \n",
       "3  Feuds, flirtations and toilet talk go down amo...        2021  \n",
       "4  In a city of coaching centers known to train I...        2021  "
      ]
     },
     "execution_count": 23,
     "metadata": {},
     "output_type": "execute_result"
    }
   ],
   "source": [
    "df.head()"
   ]
  },
  {
   "cell_type": "code",
   "execution_count": 24,
   "id": "a2fc15d7-4297-4751-9f6d-8f1b57fefee0",
   "metadata": {},
   "outputs": [],
   "source": [
    "df[\"month\"] = df[\"date_added\"].dt.month\n",
    "df[\"day_added\"] = df[\"date_added\"].dt.year"
   ]
  },
  {
   "cell_type": "code",
   "execution_count": 25,
   "id": "2c2bec2f-2db1-429c-a904-6165197fc098",
   "metadata": {},
   "outputs": [
    {
     "data": {
      "text/html": [
       "<div>\n",
       "<style scoped>\n",
       "    .dataframe tbody tr th:only-of-type {\n",
       "        vertical-align: middle;\n",
       "    }\n",
       "\n",
       "    .dataframe tbody tr th {\n",
       "        vertical-align: top;\n",
       "    }\n",
       "\n",
       "    .dataframe thead th {\n",
       "        text-align: right;\n",
       "    }\n",
       "</style>\n",
       "<table border=\"1\" class=\"dataframe\">\n",
       "  <thead>\n",
       "    <tr style=\"text-align: right;\">\n",
       "      <th></th>\n",
       "      <th>show_id</th>\n",
       "      <th>type</th>\n",
       "      <th>title</th>\n",
       "      <th>director</th>\n",
       "      <th>cast</th>\n",
       "      <th>country</th>\n",
       "      <th>date_added</th>\n",
       "      <th>release_year</th>\n",
       "      <th>rating</th>\n",
       "      <th>duration</th>\n",
       "      <th>listed_in</th>\n",
       "      <th>description</th>\n",
       "      <th>added_year</th>\n",
       "      <th>month</th>\n",
       "      <th>day_added</th>\n",
       "    </tr>\n",
       "  </thead>\n",
       "  <tbody>\n",
       "    <tr>\n",
       "      <th>0</th>\n",
       "      <td>s1</td>\n",
       "      <td>Movie</td>\n",
       "      <td>Dick Johnson Is Dead</td>\n",
       "      <td>Kirsten Johnson</td>\n",
       "      <td>No cast Info</td>\n",
       "      <td>United States</td>\n",
       "      <td>2021-09-25</td>\n",
       "      <td>2020</td>\n",
       "      <td>PG-13</td>\n",
       "      <td>90 min</td>\n",
       "      <td>Documentaries</td>\n",
       "      <td>As her father nears the end of his life, filmm...</td>\n",
       "      <td>2021</td>\n",
       "      <td>9</td>\n",
       "      <td>2021</td>\n",
       "    </tr>\n",
       "    <tr>\n",
       "      <th>1</th>\n",
       "      <td>s2</td>\n",
       "      <td>TV Show</td>\n",
       "      <td>Blood &amp; Water</td>\n",
       "      <td>No Director</td>\n",
       "      <td>Ama Qamata, Khosi Ngema, Gail Mabalane, Thaban...</td>\n",
       "      <td>South Africa</td>\n",
       "      <td>2021-09-24</td>\n",
       "      <td>2021</td>\n",
       "      <td>TV-MA</td>\n",
       "      <td>2 Seasons</td>\n",
       "      <td>International TV Shows, TV Dramas, TV Mysteries</td>\n",
       "      <td>After crossing paths at a party, a Cape Town t...</td>\n",
       "      <td>2021</td>\n",
       "      <td>9</td>\n",
       "      <td>2021</td>\n",
       "    </tr>\n",
       "    <tr>\n",
       "      <th>2</th>\n",
       "      <td>s3</td>\n",
       "      <td>TV Show</td>\n",
       "      <td>Ganglands</td>\n",
       "      <td>Julien Leclercq</td>\n",
       "      <td>Sami Bouajila, Tracy Gotoas, Samuel Jouy, Nabi...</td>\n",
       "      <td>Unknown</td>\n",
       "      <td>2021-09-24</td>\n",
       "      <td>2021</td>\n",
       "      <td>TV-MA</td>\n",
       "      <td>1 Season</td>\n",
       "      <td>Crime TV Shows, International TV Shows, TV Act...</td>\n",
       "      <td>To protect his family from a powerful drug lor...</td>\n",
       "      <td>2021</td>\n",
       "      <td>9</td>\n",
       "      <td>2021</td>\n",
       "    </tr>\n",
       "    <tr>\n",
       "      <th>3</th>\n",
       "      <td>s4</td>\n",
       "      <td>TV Show</td>\n",
       "      <td>Jailbirds New Orleans</td>\n",
       "      <td>No Director</td>\n",
       "      <td>No cast Info</td>\n",
       "      <td>Unknown</td>\n",
       "      <td>2021-09-24</td>\n",
       "      <td>2021</td>\n",
       "      <td>TV-MA</td>\n",
       "      <td>1 Season</td>\n",
       "      <td>Docuseries, Reality TV</td>\n",
       "      <td>Feuds, flirtations and toilet talk go down amo...</td>\n",
       "      <td>2021</td>\n",
       "      <td>9</td>\n",
       "      <td>2021</td>\n",
       "    </tr>\n",
       "    <tr>\n",
       "      <th>4</th>\n",
       "      <td>s5</td>\n",
       "      <td>TV Show</td>\n",
       "      <td>Kota Factory</td>\n",
       "      <td>No Director</td>\n",
       "      <td>Mayur More, Jitendra Kumar, Ranjan Raj, Alam K...</td>\n",
       "      <td>India</td>\n",
       "      <td>2021-09-24</td>\n",
       "      <td>2021</td>\n",
       "      <td>TV-MA</td>\n",
       "      <td>2 Seasons</td>\n",
       "      <td>International TV Shows, Romantic TV Shows, TV ...</td>\n",
       "      <td>In a city of coaching centers known to train I...</td>\n",
       "      <td>2021</td>\n",
       "      <td>9</td>\n",
       "      <td>2021</td>\n",
       "    </tr>\n",
       "  </tbody>\n",
       "</table>\n",
       "</div>"
      ],
      "text/plain": [
       "  show_id     type                  title         director  \\\n",
       "0      s1    Movie   Dick Johnson Is Dead  Kirsten Johnson   \n",
       "1      s2  TV Show          Blood & Water      No Director   \n",
       "2      s3  TV Show              Ganglands  Julien Leclercq   \n",
       "3      s4  TV Show  Jailbirds New Orleans      No Director   \n",
       "4      s5  TV Show           Kota Factory      No Director   \n",
       "\n",
       "                                                cast        country  \\\n",
       "0                                       No cast Info  United States   \n",
       "1  Ama Qamata, Khosi Ngema, Gail Mabalane, Thaban...   South Africa   \n",
       "2  Sami Bouajila, Tracy Gotoas, Samuel Jouy, Nabi...        Unknown   \n",
       "3                                       No cast Info        Unknown   \n",
       "4  Mayur More, Jitendra Kumar, Ranjan Raj, Alam K...          India   \n",
       "\n",
       "  date_added  release_year rating   duration  \\\n",
       "0 2021-09-25          2020  PG-13     90 min   \n",
       "1 2021-09-24          2021  TV-MA  2 Seasons   \n",
       "2 2021-09-24          2021  TV-MA   1 Season   \n",
       "3 2021-09-24          2021  TV-MA   1 Season   \n",
       "4 2021-09-24          2021  TV-MA  2 Seasons   \n",
       "\n",
       "                                           listed_in  \\\n",
       "0                                      Documentaries   \n",
       "1    International TV Shows, TV Dramas, TV Mysteries   \n",
       "2  Crime TV Shows, International TV Shows, TV Act...   \n",
       "3                             Docuseries, Reality TV   \n",
       "4  International TV Shows, Romantic TV Shows, TV ...   \n",
       "\n",
       "                                         description  added_year  month  \\\n",
       "0  As her father nears the end of his life, filmm...        2021      9   \n",
       "1  After crossing paths at a party, a Cape Town t...        2021      9   \n",
       "2  To protect his family from a powerful drug lor...        2021      9   \n",
       "3  Feuds, flirtations and toilet talk go down amo...        2021      9   \n",
       "4  In a city of coaching centers known to train I...        2021      9   \n",
       "\n",
       "   day_added  \n",
       "0       2021  \n",
       "1       2021  \n",
       "2       2021  \n",
       "3       2021  \n",
       "4       2021  "
      ]
     },
     "execution_count": 25,
     "metadata": {},
     "output_type": "execute_result"
    }
   ],
   "source": [
    "df.head()"
   ]
  },
  {
   "cell_type": "code",
   "execution_count": 26,
   "id": "00d6f16d-fa6a-4e21-90a8-2afb9f9b054f",
   "metadata": {},
   "outputs": [],
   "source": [
    "df.drop('month', axis=1, inplace=True)"
   ]
  },
  {
   "cell_type": "code",
   "execution_count": 27,
   "id": "016b4d3a-1d19-41a3-8eaf-0dc1f8e86214",
   "metadata": {},
   "outputs": [
    {
     "data": {
      "text/html": [
       "<div>\n",
       "<style scoped>\n",
       "    .dataframe tbody tr th:only-of-type {\n",
       "        vertical-align: middle;\n",
       "    }\n",
       "\n",
       "    .dataframe tbody tr th {\n",
       "        vertical-align: top;\n",
       "    }\n",
       "\n",
       "    .dataframe thead th {\n",
       "        text-align: right;\n",
       "    }\n",
       "</style>\n",
       "<table border=\"1\" class=\"dataframe\">\n",
       "  <thead>\n",
       "    <tr style=\"text-align: right;\">\n",
       "      <th></th>\n",
       "      <th>show_id</th>\n",
       "      <th>type</th>\n",
       "      <th>title</th>\n",
       "      <th>director</th>\n",
       "      <th>cast</th>\n",
       "      <th>country</th>\n",
       "      <th>date_added</th>\n",
       "      <th>release_year</th>\n",
       "      <th>rating</th>\n",
       "      <th>duration</th>\n",
       "      <th>listed_in</th>\n",
       "      <th>description</th>\n",
       "      <th>added_year</th>\n",
       "      <th>day_added</th>\n",
       "    </tr>\n",
       "  </thead>\n",
       "  <tbody>\n",
       "    <tr>\n",
       "      <th>0</th>\n",
       "      <td>s1</td>\n",
       "      <td>Movie</td>\n",
       "      <td>Dick Johnson Is Dead</td>\n",
       "      <td>Kirsten Johnson</td>\n",
       "      <td>No cast Info</td>\n",
       "      <td>United States</td>\n",
       "      <td>2021-09-25</td>\n",
       "      <td>2020</td>\n",
       "      <td>PG-13</td>\n",
       "      <td>90 min</td>\n",
       "      <td>Documentaries</td>\n",
       "      <td>As her father nears the end of his life, filmm...</td>\n",
       "      <td>2021</td>\n",
       "      <td>2021</td>\n",
       "    </tr>\n",
       "    <tr>\n",
       "      <th>1</th>\n",
       "      <td>s2</td>\n",
       "      <td>TV Show</td>\n",
       "      <td>Blood &amp; Water</td>\n",
       "      <td>No Director</td>\n",
       "      <td>Ama Qamata, Khosi Ngema, Gail Mabalane, Thaban...</td>\n",
       "      <td>South Africa</td>\n",
       "      <td>2021-09-24</td>\n",
       "      <td>2021</td>\n",
       "      <td>TV-MA</td>\n",
       "      <td>2 Seasons</td>\n",
       "      <td>International TV Shows, TV Dramas, TV Mysteries</td>\n",
       "      <td>After crossing paths at a party, a Cape Town t...</td>\n",
       "      <td>2021</td>\n",
       "      <td>2021</td>\n",
       "    </tr>\n",
       "    <tr>\n",
       "      <th>2</th>\n",
       "      <td>s3</td>\n",
       "      <td>TV Show</td>\n",
       "      <td>Ganglands</td>\n",
       "      <td>Julien Leclercq</td>\n",
       "      <td>Sami Bouajila, Tracy Gotoas, Samuel Jouy, Nabi...</td>\n",
       "      <td>Unknown</td>\n",
       "      <td>2021-09-24</td>\n",
       "      <td>2021</td>\n",
       "      <td>TV-MA</td>\n",
       "      <td>1 Season</td>\n",
       "      <td>Crime TV Shows, International TV Shows, TV Act...</td>\n",
       "      <td>To protect his family from a powerful drug lor...</td>\n",
       "      <td>2021</td>\n",
       "      <td>2021</td>\n",
       "    </tr>\n",
       "    <tr>\n",
       "      <th>3</th>\n",
       "      <td>s4</td>\n",
       "      <td>TV Show</td>\n",
       "      <td>Jailbirds New Orleans</td>\n",
       "      <td>No Director</td>\n",
       "      <td>No cast Info</td>\n",
       "      <td>Unknown</td>\n",
       "      <td>2021-09-24</td>\n",
       "      <td>2021</td>\n",
       "      <td>TV-MA</td>\n",
       "      <td>1 Season</td>\n",
       "      <td>Docuseries, Reality TV</td>\n",
       "      <td>Feuds, flirtations and toilet talk go down amo...</td>\n",
       "      <td>2021</td>\n",
       "      <td>2021</td>\n",
       "    </tr>\n",
       "    <tr>\n",
       "      <th>4</th>\n",
       "      <td>s5</td>\n",
       "      <td>TV Show</td>\n",
       "      <td>Kota Factory</td>\n",
       "      <td>No Director</td>\n",
       "      <td>Mayur More, Jitendra Kumar, Ranjan Raj, Alam K...</td>\n",
       "      <td>India</td>\n",
       "      <td>2021-09-24</td>\n",
       "      <td>2021</td>\n",
       "      <td>TV-MA</td>\n",
       "      <td>2 Seasons</td>\n",
       "      <td>International TV Shows, Romantic TV Shows, TV ...</td>\n",
       "      <td>In a city of coaching centers known to train I...</td>\n",
       "      <td>2021</td>\n",
       "      <td>2021</td>\n",
       "    </tr>\n",
       "  </tbody>\n",
       "</table>\n",
       "</div>"
      ],
      "text/plain": [
       "  show_id     type                  title         director  \\\n",
       "0      s1    Movie   Dick Johnson Is Dead  Kirsten Johnson   \n",
       "1      s2  TV Show          Blood & Water      No Director   \n",
       "2      s3  TV Show              Ganglands  Julien Leclercq   \n",
       "3      s4  TV Show  Jailbirds New Orleans      No Director   \n",
       "4      s5  TV Show           Kota Factory      No Director   \n",
       "\n",
       "                                                cast        country  \\\n",
       "0                                       No cast Info  United States   \n",
       "1  Ama Qamata, Khosi Ngema, Gail Mabalane, Thaban...   South Africa   \n",
       "2  Sami Bouajila, Tracy Gotoas, Samuel Jouy, Nabi...        Unknown   \n",
       "3                                       No cast Info        Unknown   \n",
       "4  Mayur More, Jitendra Kumar, Ranjan Raj, Alam K...          India   \n",
       "\n",
       "  date_added  release_year rating   duration  \\\n",
       "0 2021-09-25          2020  PG-13     90 min   \n",
       "1 2021-09-24          2021  TV-MA  2 Seasons   \n",
       "2 2021-09-24          2021  TV-MA   1 Season   \n",
       "3 2021-09-24          2021  TV-MA   1 Season   \n",
       "4 2021-09-24          2021  TV-MA  2 Seasons   \n",
       "\n",
       "                                           listed_in  \\\n",
       "0                                      Documentaries   \n",
       "1    International TV Shows, TV Dramas, TV Mysteries   \n",
       "2  Crime TV Shows, International TV Shows, TV Act...   \n",
       "3                             Docuseries, Reality TV   \n",
       "4  International TV Shows, Romantic TV Shows, TV ...   \n",
       "\n",
       "                                         description  added_year  day_added  \n",
       "0  As her father nears the end of his life, filmm...        2021       2021  \n",
       "1  After crossing paths at a party, a Cape Town t...        2021       2021  \n",
       "2  To protect his family from a powerful drug lor...        2021       2021  \n",
       "3  Feuds, flirtations and toilet talk go down amo...        2021       2021  \n",
       "4  In a city of coaching centers known to train I...        2021       2021  "
      ]
     },
     "execution_count": 27,
     "metadata": {},
     "output_type": "execute_result"
    }
   ],
   "source": [
    "df.head()"
   ]
  },
  {
   "cell_type": "code",
   "execution_count": 28,
   "id": "01159387-51e3-436f-b54e-3e69c0399415",
   "metadata": {},
   "outputs": [
    {
     "name": "stdout",
     "output_type": "stream",
     "text": [
      "show_id\n",
      "s1       1\n",
      "s2       1\n",
      "s3       1\n",
      "s4       1\n",
      "s5       1\n",
      "        ..\n",
      "s8803    1\n",
      "s8804    1\n",
      "s8805    1\n",
      "s8806    1\n",
      "s8807    1\n",
      "Name: count, Length: 8807, dtype: int64\n",
      "************************************************************************************************************************************************************************************************************************************************\n",
      "type\n",
      "Movie      6131\n",
      "TV Show    2676\n",
      "Name: count, dtype: int64\n",
      "************************************************************************************************************************************************************************************************************************************************\n",
      "title\n",
      "Dick Johnson Is Dead     1\n",
      "Blood & Water            1\n",
      "Ganglands                1\n",
      "Jailbirds New Orleans    1\n",
      "Kota Factory             1\n",
      "                        ..\n",
      "Zodiac                   1\n",
      "Zombie Dumb              1\n",
      "Zombieland               1\n",
      "Zoom                     1\n",
      "Zubaan                   1\n",
      "Name: count, Length: 8807, dtype: int64\n",
      "************************************************************************************************************************************************************************************************************************************************\n",
      "director\n",
      "No Director                               2634\n",
      "Rajiv Chilaka                               19\n",
      "Raúl Campos, Jan Suter                      18\n",
      "Suhas Kadav                                 16\n",
      "Marcus Raboy                                16\n",
      "                                          ... \n",
      "Milla Harrison-Hansley, Alicky Sussman       1\n",
      "Drew Stone                                   1\n",
      "Benjamin Turner                              1\n",
      "S. Shankar                                   1\n",
      "Peter Hewitt                                 1\n",
      "Name: count, Length: 4529, dtype: int64\n",
      "************************************************************************************************************************************************************************************************************************************************\n",
      "cast\n",
      " No cast Info                                                                                                                                                  825\n",
      "David Attenborough                                                                                                                                              19\n",
      "Vatsal Dubey, Julie Tejwani, Rupa Bhimani, Jigna Bhardwaj, Rajesh Kava, Mousam, Swapnil                                                                         14\n",
      "Samuel West                                                                                                                                                     10\n",
      "Jeff Dunham                                                                                                                                                      7\n",
      "                                                                                                                                                              ... \n",
      "Ali Suliman, Saleh Bakri, Yasa, Ali Al-Jabri, Mansoor Alfeeli, Ahd                                                                                               1\n",
      "Mark Ruffalo, Jake Gyllenhaal, Robert Downey Jr., Anthony Edwards, Brian Cox, Elias Koteas, Donal Logue, John Carroll Lynch, Dermot Mulroney, Chloë Sevigny      1\n",
      "Jesse Eisenberg, Woody Harrelson, Emma Stone, Abigail Breslin, Amber Heard, Bill Murray, Derek Graf                                                              1\n",
      "Tim Allen, Courteney Cox, Chevy Chase, Kate Mara, Ryan Newman, Michael Cassidy, Spencer Breslin, Rip Torn, Kevin Zegers                                          1\n",
      "Ankush Choudhary, Smita Shewale, Mohan Joshi, Atmaram Bhende, Asha Bhende                                                                                        1\n",
      "Name: count, Length: 7693, dtype: int64\n",
      "************************************************************************************************************************************************************************************************************************************************\n",
      "country\n",
      "United States                                             2818\n",
      "India                                                      972\n",
      "Unknown                                                    831\n",
      "United Kingdom                                             419\n",
      "Japan                                                      245\n",
      "                                                          ... \n",
      "Germany, Canada, United States                               1\n",
      "Denmark, United Kingdom, South Africa, Sweden, Belgium       1\n",
      "Serbia, South Korea, Slovenia                                1\n",
      "United Kingdom, Spain, Belgium                               1\n",
      "South Africa, United States, Japan                           1\n",
      "Name: count, Length: 749, dtype: int64\n",
      "************************************************************************************************************************************************************************************************************************************************\n",
      "rating\n",
      "TV-MA       3207\n",
      "TV-14       2160\n",
      "TV-PG        863\n",
      "R            799\n",
      "PG-13        490\n",
      "TV-Y7        334\n",
      "TV-Y         307\n",
      "PG           287\n",
      "TV-G         220\n",
      "NR            80\n",
      "G             41\n",
      "TV-Y7-FV       6\n",
      "NC-17          3\n",
      "UR             3\n",
      "74 min         1\n",
      "84 min         1\n",
      "66 min         1\n",
      "Name: count, dtype: int64\n",
      "************************************************************************************************************************************************************************************************************************************************\n",
      "duration\n",
      "1 Season     1793\n",
      "2 Seasons     425\n",
      "3 Seasons     199\n",
      "90 min        152\n",
      "97 min        146\n",
      "             ... \n",
      "228 min         1\n",
      "18 min          1\n",
      "205 min         1\n",
      "201 min         1\n",
      "191 min         1\n",
      "Name: count, Length: 220, dtype: int64\n",
      "************************************************************************************************************************************************************************************************************************************************\n",
      "listed_in\n",
      "Dramas, International Movies                        362\n",
      "Documentaries                                       359\n",
      "Stand-Up Comedy                                     334\n",
      "Comedies, Dramas, International Movies              274\n",
      "Dramas, Independent Movies, International Movies    252\n",
      "                                                   ... \n",
      "Action & Adventure, Cult Movies                       1\n",
      "Action & Adventure, Comedies, Music & Musicals        1\n",
      "Classic Movies, Horror Movies, Thrillers              1\n",
      "Children & Family Movies, Classic Movies, Dramas      1\n",
      "Cult Movies, Dramas, Thrillers                        1\n",
      "Name: count, Length: 514, dtype: int64\n",
      "************************************************************************************************************************************************************************************************************************************************\n",
      "description\n",
      "Paranormal activity at a lush, abandoned property alarms a group eager to redevelop the site, but the eerie events may not be as unearthly as they think.    4\n",
      "A surly septuagenarian gets another chance at her 20s after having her photo snapped at a studio that magically takes 50 years off her life.                 3\n",
      "Multiple women report their husbands as missing but when it appears they are looking for the same man, a police officer traces their cryptic connection.     3\n",
      "Challenged to compose 100 songs before he can marry the girl he loves, a tortured but passionate singer-songwriter embarks on a poignant musical journey.    3\n",
      "As a woman scours Hyderabad for her missing husband, she becomes entangled in a conspiracy that suggests there’s more to the mystery than meets the eye.     2\n",
      "                                                                                                                                                            ..\n",
      "A gifted young ballet dancer struggles to find her footing in an uptight ballet school that brings her and her family to a brand-new neighborhood.           1\n",
      "After stepping in to revitalize his family's hotel, a money-minded businessman clashes with the hotel's cheery, Christmas-loving decorator.                  1\n",
      "A soap opera producer, director and makeup artist each face wrenching family turmoil, from teen rebellion and marital infidelity to Alzheimer's.             1\n",
      "Laida and Miggy think they've found perfect happiness with each other, until their burgeoning careers force them into a long-distance relationship.          1\n",
      "A scrappy but poor boy worms his way into a tycoon's dysfunctional family, while facing his fear of music and the truth about his past.                      1\n",
      "Name: count, Length: 8775, dtype: int64\n",
      "************************************************************************************************************************************************************************************************************************************************\n"
     ]
    }
   ],
   "source": [
    "# Show value counts for each categorical column\n",
    "for i in df.select_dtypes(include=[\"object\"]):\n",
    "    a = df[i].value_counts()\n",
    "    print(f\"{a}\")\n",
    "    print(\"********\"*30)"
   ]
  },
  {
   "cell_type": "code",
   "execution_count": 29,
   "id": "0893a242-e29e-4315-be72-3369de9e46f1",
   "metadata": {},
   "outputs": [],
   "source": [
    "## Rating and duration column process "
   ]
  },
  {
   "cell_type": "code",
   "execution_count": 30,
   "id": "7f0011f3-bc6e-47cd-8862-a0994bf4dbc6",
   "metadata": {},
   "outputs": [],
   "source": [
    "df[\"rating\"] = df[\"rating\"].replace([\"74 min\",\"84 min\",\"66 min\"], \" No rating\")"
   ]
  },
  {
   "cell_type": "code",
   "execution_count": 31,
   "id": "d34fde1b-2ea5-428f-a62e-c90e25f397bc",
   "metadata": {},
   "outputs": [],
   "source": [
    "## setting up layout  ## when you want to display the whole data \n",
    "pd.set_option('display.max_rows',None)\n",
    "pd.set_option('display.max_columns',None)\n",
    "pd.set_option('display.width',1000)"
   ]
  },
  {
   "cell_type": "markdown",
   "id": "5293bff1-14b0-473f-a627-d1eda04f0be6",
   "metadata": {},
   "source": [
    "## Undestanding Duration Column:- \n",
    "## regex patterns:-\n",
    "1.(/d+)------>one or more digit available in the string \n",
    "2.(s*)-------> one or more space \n",
    "3.(/w+)------> ome or more words available withning the string "
   ]
  },
  {
   "cell_type": "code",
   "execution_count": 32,
   "id": "321b14b3-7938-443f-8cb9-940ae590ec07",
   "metadata": {},
   "outputs": [],
   "source": [
    "df[[\"duration_int\",\"duration_type\"]] = df[\"duration\"].str.extract(r'(\\d+)\\s*(\\w+)')"
   ]
  },
  {
   "cell_type": "code",
   "execution_count": 33,
   "id": "39547908-2714-475b-a4bd-f48d43825a91",
   "metadata": {},
   "outputs": [
    {
     "data": {
      "text/html": [
       "<div>\n",
       "<style scoped>\n",
       "    .dataframe tbody tr th:only-of-type {\n",
       "        vertical-align: middle;\n",
       "    }\n",
       "\n",
       "    .dataframe tbody tr th {\n",
       "        vertical-align: top;\n",
       "    }\n",
       "\n",
       "    .dataframe thead th {\n",
       "        text-align: right;\n",
       "    }\n",
       "</style>\n",
       "<table border=\"1\" class=\"dataframe\">\n",
       "  <thead>\n",
       "    <tr style=\"text-align: right;\">\n",
       "      <th></th>\n",
       "      <th>show_id</th>\n",
       "      <th>type</th>\n",
       "      <th>title</th>\n",
       "      <th>director</th>\n",
       "      <th>cast</th>\n",
       "      <th>country</th>\n",
       "      <th>date_added</th>\n",
       "      <th>release_year</th>\n",
       "      <th>rating</th>\n",
       "      <th>duration</th>\n",
       "      <th>listed_in</th>\n",
       "      <th>description</th>\n",
       "      <th>added_year</th>\n",
       "      <th>day_added</th>\n",
       "      <th>duration_int</th>\n",
       "      <th>duration_type</th>\n",
       "    </tr>\n",
       "  </thead>\n",
       "  <tbody>\n",
       "    <tr>\n",
       "      <th>0</th>\n",
       "      <td>s1</td>\n",
       "      <td>Movie</td>\n",
       "      <td>Dick Johnson Is Dead</td>\n",
       "      <td>Kirsten Johnson</td>\n",
       "      <td>No cast Info</td>\n",
       "      <td>United States</td>\n",
       "      <td>2021-09-25</td>\n",
       "      <td>2020</td>\n",
       "      <td>PG-13</td>\n",
       "      <td>90 min</td>\n",
       "      <td>Documentaries</td>\n",
       "      <td>As her father nears the end of his life, filmm...</td>\n",
       "      <td>2021</td>\n",
       "      <td>2021</td>\n",
       "      <td>90</td>\n",
       "      <td>min</td>\n",
       "    </tr>\n",
       "    <tr>\n",
       "      <th>1</th>\n",
       "      <td>s2</td>\n",
       "      <td>TV Show</td>\n",
       "      <td>Blood &amp; Water</td>\n",
       "      <td>No Director</td>\n",
       "      <td>Ama Qamata, Khosi Ngema, Gail Mabalane, Thaban...</td>\n",
       "      <td>South Africa</td>\n",
       "      <td>2021-09-24</td>\n",
       "      <td>2021</td>\n",
       "      <td>TV-MA</td>\n",
       "      <td>2 Seasons</td>\n",
       "      <td>International TV Shows, TV Dramas, TV Mysteries</td>\n",
       "      <td>After crossing paths at a party, a Cape Town t...</td>\n",
       "      <td>2021</td>\n",
       "      <td>2021</td>\n",
       "      <td>2</td>\n",
       "      <td>Seasons</td>\n",
       "    </tr>\n",
       "    <tr>\n",
       "      <th>2</th>\n",
       "      <td>s3</td>\n",
       "      <td>TV Show</td>\n",
       "      <td>Ganglands</td>\n",
       "      <td>Julien Leclercq</td>\n",
       "      <td>Sami Bouajila, Tracy Gotoas, Samuel Jouy, Nabi...</td>\n",
       "      <td>Unknown</td>\n",
       "      <td>2021-09-24</td>\n",
       "      <td>2021</td>\n",
       "      <td>TV-MA</td>\n",
       "      <td>1 Season</td>\n",
       "      <td>Crime TV Shows, International TV Shows, TV Act...</td>\n",
       "      <td>To protect his family from a powerful drug lor...</td>\n",
       "      <td>2021</td>\n",
       "      <td>2021</td>\n",
       "      <td>1</td>\n",
       "      <td>Season</td>\n",
       "    </tr>\n",
       "    <tr>\n",
       "      <th>3</th>\n",
       "      <td>s4</td>\n",
       "      <td>TV Show</td>\n",
       "      <td>Jailbirds New Orleans</td>\n",
       "      <td>No Director</td>\n",
       "      <td>No cast Info</td>\n",
       "      <td>Unknown</td>\n",
       "      <td>2021-09-24</td>\n",
       "      <td>2021</td>\n",
       "      <td>TV-MA</td>\n",
       "      <td>1 Season</td>\n",
       "      <td>Docuseries, Reality TV</td>\n",
       "      <td>Feuds, flirtations and toilet talk go down amo...</td>\n",
       "      <td>2021</td>\n",
       "      <td>2021</td>\n",
       "      <td>1</td>\n",
       "      <td>Season</td>\n",
       "    </tr>\n",
       "    <tr>\n",
       "      <th>4</th>\n",
       "      <td>s5</td>\n",
       "      <td>TV Show</td>\n",
       "      <td>Kota Factory</td>\n",
       "      <td>No Director</td>\n",
       "      <td>Mayur More, Jitendra Kumar, Ranjan Raj, Alam K...</td>\n",
       "      <td>India</td>\n",
       "      <td>2021-09-24</td>\n",
       "      <td>2021</td>\n",
       "      <td>TV-MA</td>\n",
       "      <td>2 Seasons</td>\n",
       "      <td>International TV Shows, Romantic TV Shows, TV ...</td>\n",
       "      <td>In a city of coaching centers known to train I...</td>\n",
       "      <td>2021</td>\n",
       "      <td>2021</td>\n",
       "      <td>2</td>\n",
       "      <td>Seasons</td>\n",
       "    </tr>\n",
       "  </tbody>\n",
       "</table>\n",
       "</div>"
      ],
      "text/plain": [
       "  show_id     type                  title         director                                               cast        country date_added  release_year rating   duration                                          listed_in                                        description  added_year  day_added duration_int duration_type\n",
       "0      s1    Movie   Dick Johnson Is Dead  Kirsten Johnson                                       No cast Info  United States 2021-09-25          2020  PG-13     90 min                                      Documentaries  As her father nears the end of his life, filmm...        2021       2021           90           min\n",
       "1      s2  TV Show          Blood & Water      No Director  Ama Qamata, Khosi Ngema, Gail Mabalane, Thaban...   South Africa 2021-09-24          2021  TV-MA  2 Seasons    International TV Shows, TV Dramas, TV Mysteries  After crossing paths at a party, a Cape Town t...        2021       2021            2       Seasons\n",
       "2      s3  TV Show              Ganglands  Julien Leclercq  Sami Bouajila, Tracy Gotoas, Samuel Jouy, Nabi...        Unknown 2021-09-24          2021  TV-MA   1 Season  Crime TV Shows, International TV Shows, TV Act...  To protect his family from a powerful drug lor...        2021       2021            1        Season\n",
       "3      s4  TV Show  Jailbirds New Orleans      No Director                                       No cast Info        Unknown 2021-09-24          2021  TV-MA   1 Season                             Docuseries, Reality TV  Feuds, flirtations and toilet talk go down amo...        2021       2021            1        Season\n",
       "4      s5  TV Show           Kota Factory      No Director  Mayur More, Jitendra Kumar, Ranjan Raj, Alam K...          India 2021-09-24          2021  TV-MA  2 Seasons  International TV Shows, Romantic TV Shows, TV ...  In a city of coaching centers known to train I...        2021       2021            2       Seasons"
      ]
     },
     "execution_count": 33,
     "metadata": {},
     "output_type": "execute_result"
    }
   ],
   "source": [
    "df.head()"
   ]
  },
  {
   "cell_type": "markdown",
   "id": "8f253dbe-1054-4c7c-843a-762369653d59",
   "metadata": {},
   "source": [
    "## Hypothesis : Question dataset to know the actual insights.\n",
    "## Explore the geographical distribution of content (if applicable)."
   ]
  },
  {
   "cell_type": "code",
   "execution_count": 34,
   "id": "c8c92678-353e-4034-b5f6-294671f6059e",
   "metadata": {},
   "outputs": [],
   "source": [
    "df_country = df[\"country\"].sort_values(ascending = False)"
   ]
  },
  {
   "cell_type": "code",
   "execution_count": 35,
   "id": "aede58ce-6b88-4063-ae3f-ecc9142d6abd",
   "metadata": {},
   "outputs": [],
   "source": [
    "top_10_c = df[\"country\"].value_counts().head(10)"
   ]
  },
  {
   "cell_type": "code",
   "execution_count": 36,
   "id": "62ade793-d696-4d4a-a413-c0cce3923665",
   "metadata": {},
   "outputs": [
    {
     "name": "stdout",
     "output_type": "stream",
     "text": [
      "country\n",
      "United States     2818\n",
      "India              972\n",
      "Unknown            831\n",
      "United Kingdom     419\n",
      "Japan              245\n",
      "South Korea        199\n",
      "Canada             181\n",
      "Spain              145\n",
      "France             124\n",
      "Mexico             110\n",
      "Name: count, dtype: int64\n"
     ]
    }
   ],
   "source": [
    "print(top_10_c )"
   ]
  },
  {
   "cell_type": "code",
   "execution_count": 37,
   "id": "36724fdf-00d7-446c-bf41-2f6f47e902cf",
   "metadata": {},
   "outputs": [
    {
     "data": {
      "image/png": "[encoded data removed]",
      "text/plain": [
       "<Figure size 1600x600 with 1 Axes>"
      ]
     },
     "metadata": {},
     "output_type": "display_data"
    }
   ],
   "source": [
    "plt.figure(figsize = (16,6))\n",
    "colors = plt.cm.Dark2(np.linspace(0, 1, len(top_10_c)))  \n",
    "bars = plt.bar(x=top_10_c.index, height= top_10_c.values, color = colors , edgecolor = 'black')\n",
    "\n",
    "## tittle \n",
    "plt.title(\"Top Countries Participation\",fontsize=16, fontweight=\"bold\", pad = 30, loc = \"center\",color=\"darkred\")\n",
    "\n",
    "## labels \n",
    "plt.xlabel(\"Countries\", fontsize = 14,fontweight=\"bold\")\n",
    "plt.ylabel(\"Values\", fontsize = 14, fontweight=\"bold\")\n",
    "\n",
    "## ticks and grid \n",
    "plt.xticks(rotation = 45,ha=\"right\", fontsize=12, fontweight=\"medium\")\n",
    "plt.yticks(fontsize=12)\n",
    "plt.grid(axis='y', linestyle='--', alpha=0.5)\n",
    "\n",
    "## values label on the top \n",
    "for bar in bars:\n",
    "    height = bar.get_height()\n",
    "    plt.text(bar.get_x() + bar.get_width()/2, height + 0.5, \n",
    "             f\"{height:.0f}\", ha=\"center\", va=\"bottom\", fontsize=10, fontweight=\"bold\")\n",
    "## highlight maximum bar \n",
    "max_idx = top_10_c.values.argmax()\n",
    "bars[max_idx].set_color(\"crimson\")\n",
    "\n",
    "plt.tight_layout()\n",
    "plt.show()"
   ]
  },
  {
   "cell_type": "markdown",
   "id": "2e75eab2-45c3-4ecd-b26b-88f5373e9ac0",
   "metadata": {},
   "source": [
    "## Create visualizations to represent the distribution of content over different genres"
   ]
  },
  {
   "cell_type": "code",
   "execution_count": 38,
   "id": "b6d817cd-808b-4e31-968e-f65de5c4f83b",
   "metadata": {},
   "outputs": [],
   "source": [
    "most_used = df[\"type\"].value_counts()"
   ]
  },
  {
   "cell_type": "code",
   "execution_count": 39,
   "id": "84a06a30-d49c-483c-829c-1403150604e4",
   "metadata": {},
   "outputs": [
    {
     "name": "stdout",
     "output_type": "stream",
     "text": [
      "type\n",
      "Movie      6131\n",
      "TV Show    2676\n",
      "Name: count, dtype: int64\n"
     ]
    }
   ],
   "source": [
    "print(most_used)"
   ]
  },
  {
   "cell_type": "code",
   "execution_count": 40,
   "id": "4e0cc5df-5d7f-475f-ae87-9889cdc514f0",
   "metadata": {},
   "outputs": [
    {
     "data": {
      "image/png": "[encoded data removed]",
      "text/plain": [
       "<Figure size 600x600 with 1 Axes>"
      ]
     },
     "metadata": {},
     "output_type": "display_data"
    }
   ],
   "source": [
    "colors = plt.cm.Set3 (range(len(most_used)))\n",
    "\n",
    "explode = [0.05 if i == most_used.values.argmax() else 0 for i in range(len(most_used))]\n",
    "\n",
    "plt.figure(figsize =(6,6))\n",
    "    \n",
    "plt.pie(most_used.values,labels=most_used.index,colors = colors ,autopct=lambda p: f\"{p:.1f}%\\n({int(p*sum(most_used.values)/100)})\",startangle=45,shadow = True ,explode = explode,wedgeprops={\"edgecolor\":\"white\"})\n",
    "plt.axis(\"equal\")\n",
    "plt.title(\"Highest watched content\", fontsize=16, fontweight=\"bold\", pad=20, color=\"darkred\")\n",
    "plt.show()\n",
    "## 69.6 % of the type are movie which indicating the stream are more of movies than series and only 30.4% belongs to the Ty shows."
   ]
  },
  {
   "cell_type": "markdown",
   "id": "d1d05564-cc64-492b-a0be-322314bc7291",
   "metadata": {},
   "source": [
    "## Analyze the distribution of content ratings.\n",
    "   Description:-\n",
    "   TV-Y7 - KIDS\n",
    "   TV-PG - Families\n",
    "   TV-14 - Teens\n",
    "   TV-MA - Adult(17+)\n",
    "   PG-13 - Teens(13+)\n",
    "   R     - Restricted(17+)\n",
    "   ## The ratings (like TV-MA, TV-14, PG-13, etc.) are not given by Netflix or the audience — they are assigned by official content rating boards."
   ]
  },
  {
   "cell_type": "code",
   "execution_count": 41,
   "id": "0a3a4591-6474-4418-9df8-9caa4a29ee15",
   "metadata": {},
   "outputs": [],
   "source": [
    "rating_category= df[\"rating\"].value_counts().head()"
   ]
  },
  {
   "cell_type": "code",
   "execution_count": 42,
   "id": "1900fc1b-6781-4a81-91f5-7615c1c9db10",
   "metadata": {},
   "outputs": [
    {
     "name": "stdout",
     "output_type": "stream",
     "text": [
      "rating\n",
      "TV-MA    3207\n",
      "TV-14    2160\n",
      "TV-PG     863\n",
      "R         799\n",
      "PG-13     490\n",
      "Name: count, dtype: int64\n"
     ]
    }
   ],
   "source": [
    "print(rating_category)"
   ]
  },
  {
   "cell_type": "code",
   "execution_count": 43,
   "id": "bdd67f0e-abd0-49ec-93fe-747f1acf8ae9",
   "metadata": {},
   "outputs": [
    {
     "data": {
      "image/png": "[encoded data removed]",
      "text/plain": [
       "<Figure size 1000x300 with 1 Axes>"
      ]
     },
     "metadata": {},
     "output_type": "display_data"
    }
   ],
   "source": [
    "#figure/color/bar/tittle \n",
    "plt.figure(figsize = (10,3))\n",
    "colors = plt.cm.Set3 (np.linspace(0,1,len(rating_category)))\n",
    "plt.bar(x = rating_category.index , height = rating_category.values, color = colors , edgecolor = 'BLACK')\n",
    "plt.title( \"Most common content rating category\",fontsize = 20,fontweight= \"bold\" , pad = 30, loc = \"center\", color = \"darkblue\")\n",
    "\n",
    "#lables \n",
    "plt.xlabel(\"Rating category\",fontsize =10,fontweight =\"bold\")\n",
    "plt.ylabel(\"Values\", fontsize=10,fontweight=\"bold\")\n",
    "\n",
    "#ticks&grid\n",
    "plt.xticks(fontsize=10,fontweight=\"medium\",ha = \"center\")\n",
    "plt.yticks(fontsize=10)\n",
    "plt.grid(axis='y', linestyle='-.', alpha=0.5)\n",
    "\n",
    "plt.subplots_adjust()\n",
    "plt.show()\n",
    "## A significant portion of Netflix’s content carries a TV-MA rating, reflecting a strategic focus on adult-oriented programming."
   ]
  },
  {
   "cell_type": "markdown",
   "id": "58296718-b9da-4989-b119-c038f7d56b23",
   "metadata": {},
   "source": [
    "## 3. Which program type has been uploaded the most frequently on the platform, and what does this reveal about content creation trends?"
   ]
  },
  {
   "cell_type": "code",
   "execution_count": 44,
   "id": "e09c08a5-0dde-4043-8b9b-6d94de287a74",
   "metadata": {},
   "outputs": [],
   "source": [
    "program_type = df[\"listed_in\"].value_counts().head()"
   ]
  },
  {
   "cell_type": "code",
   "execution_count": 45,
   "id": "0781adaf-7692-44f6-8af2-d7566a5394ef",
   "metadata": {},
   "outputs": [
    {
     "name": "stdout",
     "output_type": "stream",
     "text": [
      "listed_in\n",
      "Dramas, International Movies                        362\n",
      "Documentaries                                       359\n",
      "Stand-Up Comedy                                     334\n",
      "Comedies, Dramas, International Movies              274\n",
      "Dramas, Independent Movies, International Movies    252\n",
      "Name: count, dtype: int64\n"
     ]
    }
   ],
   "source": [
    "print(program_type)"
   ]
  },
  {
   "cell_type": "code",
   "execution_count": 46,
   "id": "c2b29df4-c973-4fd6-b29b-af38ee72ec2c",
   "metadata": {},
   "outputs": [
    {
     "data": {
      "image/png": "[encoded data removed]",
      "text/plain": [
       "<Figure size 800x800 with 1 Axes>"
      ]
     },
     "metadata": {},
     "output_type": "display_data"
    }
   ],
   "source": [
    "# 🔹 Colors using colormap\n",
    "colors = plt.cm.Set3 (range(len(program_type)))\n",
    "explode = (0.1, 0.05, 0, 0, 0.05)\n",
    "plt.figure(figsize=(8,8))\n",
    "# Pie chart\n",
    "plt.pie(\n",
    "    program_type.values,\n",
    "    labels=program_type.index,\n",
    "    colors=colors,\n",
    "    autopct=lambda p: f\"{p:.1f}%\\n({int(p*sum(program_type.values)/100)})\",  # Show % + count\n",
    "    startangle=90,\n",
    "    explode=explode,\n",
    "    shadow=True,\n",
    "    wedgeprops={\"edgecolor\": \"white\", \"linewidth\": 1}\n",
    ")\n",
    "plt.axis(\"equal\")\n",
    "plt.title(\"Most Uploaded Program Type\", fontsize=18, fontweight=\"bold\", color=\"darkred\", pad=20)\n",
    "# Annotation for highlighting biggest contributors\n",
    "plt.text(0, -1.2, \n",
    "         \"📌 Dramas, International Movies, and Documentaries\\ncontribute the largest share of uploaded content.\",\n",
    "         ha=\"center\", va=\"center\", fontsize=12, color=\"black\")\n",
    "\n",
    "plt.show()"
   ]
  },
  {
   "cell_type": "markdown",
   "id": "ab3f7a17-d54e-4981-9e22-d20ca583c1d0",
   "metadata": {},
   "source": [
    "## Visualize the distribution of content across release years"
   ]
  },
  {
   "cell_type": "code",
   "execution_count": 47,
   "id": "69dd68a9-8c0b-41e8-a94c-24f9682571f9",
   "metadata": {},
   "outputs": [],
   "source": [
    "import plotly.express as px"
   ]
  },
  {
   "cell_type": "code",
   "execution_count": 48,
   "id": "08b4d970-c673-4594-a241-7f11b33c0592",
   "metadata": {},
   "outputs": [
    {
     "data": {
      "text/plain": [
       "'!pip install plotly'"
      ]
     },
     "execution_count": 48,
     "metadata": {},
     "output_type": "execute_result"
    }
   ],
   "source": [
    "'''!pip install plotly'''"
   ]
  },
  {
   "cell_type": "code",
   "execution_count": 49,
   "id": "d0280be1-9c5e-4598-97ce-a880bad9b9c5",
   "metadata": {},
   "outputs": [
    {
     "data": {
      "application/vnd.plotly.v1+json": {
       "config": {
        "plotlyServerURL": "https://plot.ly"
       },
       "data": [
        {
         "hovertemplate": "type=TV Show<br>release_year=%{x}<br>count=%{text}<extra></extra>",
         "legendgroup": "TV Show",
         "marker": {
          "color": "rgb(102,194,165)",
          "pattern": {
           "shape": ""
          }
         },
         "name": "TV Show",
         "orientation": "v",
         "showlegend": true,
         "text": {
          "bdata": "AAAAAAAA8D8AAAAAAADwPwAAAAAAAPA/AAAAAAAA8D8AAAAAAADwPwAAAAAAAPA/AAAAAAAA8D8AAAAAAADwPwAAAAAAAPA/AAAAAAAA8D8AAAAAAADwPwAAAAAAAABAAAAAAAAAAEAAAAAAAADwPwAAAAAAAAhAAAAAAAAA8D8AAAAAAAAIQAAAAAAAABBAAAAAAAAAAEAAAAAAAAAAQAAAAAAAAAhAAAAAAAAAEEAAAAAAAAAQQAAAAAAAABxAAAAAAAAAEEAAAAAAAAAUQAAAAAAAABxAAAAAAAAAJEAAAAAAAAAiQAAAAAAAACpAAAAAAAAALEAAAAAAAAAsQAAAAAAAADdAAAAAAAAAQUAAAAAAAABEQAAAAAAAAERAAAAAAAAAUEAAAAAAAIBPQAAAAAAAAFZAAAAAAABAZEAAAAAAAIBuQAAAAAAAkHBAAAAAAADAd0AAAAAAANB4QAAAAAAAQHtAAAAAAACwc0A=",
          "dtype": "f8"
         },
         "textposition": "inside",
         "texttemplate": "%{text}",
         "type": "bar",
         "x": {
          "bdata": "hQeZB5oHqwevB7QHtge5B7sHvQfBB8IHxAfFB8YHxwfIB8kHygfLB8wHzQfOB88H0AfRB9IH0wfUB9UH1gfXB9gH2QfaB9sH3AfdB94H3wfgB+EH4gfjB+QH5Qc=",
          "dtype": "i2"
         },
         "xaxis": "x",
         "y": {
          "bdata": "AQABAAEAAQABAAEAAQABAAEAAQABAAIAAgABAAMAAQADAAQAAgACAAMABAAEAAcABAAFAAcACgAJAA0ADgAOABcAIgAoACgAQAA/AFgAogD0AAkBfAGNAbQBOwE=",
          "dtype": "i2"
         },
         "yaxis": "y"
        },
        {
         "hovertemplate": "type=Movie<br>release_year=%{x}<br>count=%{text}<extra></extra>",
         "legendgroup": "Movie",
         "marker": {
          "color": "rgb(252,141,98)",
          "pattern": {
           "shape": ""
          }
         },
         "name": "Movie",
         "orientation": "v",
         "showlegend": true,
         "text": {
          "bdata": "AAAAAAAAAEAAAAAAAAAIQAAAAAAAAAhAAAAAAAAACEAAAAAAAADwPwAAAAAAAPA/AAAAAAAAAEAAAAAAAAAIQAAAAAAAAABAAAAAAAAACEAAAAAAAADwPwAAAAAAABBAAAAAAAAA8D8AAAAAAAAIQAAAAAAAAPA/AAAAAAAAAEAAAAAAAAAAQAAAAAAAAPA/AAAAAAAAEEAAAAAAAAAIQAAAAAAAAABAAAAAAAAAAEAAAAAAAAAUQAAAAAAAABBAAAAAAAAAJEAAAAAAAAAYQAAAAAAAABxAAAAAAAAAIkAAAAAAAAAYQAAAAAAAABxAAAAAAAAAJEAAAAAAAAAmQAAAAAAAAChAAAAAAAAAMUAAAAAAAAAmQAAAAAAAAChAAAAAAAAAIkAAAAAAAAAmQAAAAAAAACBAAAAAAAAAMEAAAAAAAAAuQAAAAAAAADNAAAAAAAAAMEAAAAAAAAA0QAAAAAAAADhAAAAAAAAANEAAAAAAAAA3QAAAAAAAADVAAAAAAAAAQUAAAAAAAABAQAAAAAAAAEBAAAAAAACAQEAAAAAAAABEQAAAAAAAAEZAAAAAAACASUAAAAAAAIBLQAAAAAAAwFBAAAAAAACAVEAAAAAAAIBSQAAAAAAAQFxAAAAAAACAXUAAAAAAAEBjQAAAAAAAIGJAAAAAAACgZUAAAAAAACBsQAAAAAAAgHBAAAAAAADgeEAAAAAAAJCEQAAAAAAA+IdAAAAAAAD4h0AAAAAAAMiDQAAAAAAAKIBAAAAAAABQcUA=",
          "dtype": "f8"
         },
         "textposition": "inside",
         "texttemplate": "%{text}",
         "type": "bar",
         "x": {
          "bdata": "lgeXB5gHmQeaB5sHogejB6QHpgenB6gHqQeqB6sHrAetB64HrwewB7EHsgezB7QHtQe2B7cHuAe5B7oHuwe8B70Hvge/B8AHwQfCB8MHxAfFB8YHxwfIB8kHygfLB8wHzQfOB88H0AfRB9IH0wfUB9UH1gfXB9gH2QfaB9sH3AfdB94H3wfgB+EH4gfjB+QH5Qc=",
          "dtype": "i2"
         },
         "xaxis": "x",
         "y": {
          "bdata": "AgADAAMAAwABAAEAAgADAAIAAwABAAQAAQADAAEAAgACAAEABAADAAIAAgAFAAQACgAGAAcACQAGAAcACgALAAwAEQALAAwACQALAAgAEAAPABMAEAAUABgAFAAXABUAIgAgACAAIQAoACwAMwA3AEMAUgBKAHEAdgCaAJEArQDhAAgBjgGSAv8C/wJ5AgUCFQE=",
          "dtype": "i2"
         },
         "yaxis": "y"
        }
       ],
       "layout": {
        "barmode": "stack",
        "legend": {
         "orientation": "h",
         "title": {
          "text": "Content Type"
         },
         "tracegroupgap": 0,
         "x": 0.5,
         "xanchor": "center",
         "y": 1.02,
         "yanchor": "bottom"
        },
        "margin": {
         "t": 60
        },
        "template": {
         "data": {
          "bar": [
           {
            "error_x": {
             "color": "#2a3f5f"
            },
            "error_y": {
             "color": "#2a3f5f"
            },
            "marker": {
             "line": {
              "color": "white",
              "width": 0.5
             },
             "pattern": {
              "fillmode": "overlay",
              "size": 10,
              "solidity": 0.2
             }
            },
            "type": "bar"
           }
          ],
          "barpolar": [
           {
            "marker": {
             "line": {
              "color": "white",
              "width": 0.5
             },
             "pattern": {
              "fillmode": "overlay",
              "size": 10,
              "solidity": 0.2
             }
            },
            "type": "barpolar"
           }
          ],
          "carpet": [
           {
            "aaxis": {
             "endlinecolor": "#2a3f5f",
             "gridcolor": "#C8D4E3",
             "linecolor": "#C8D4E3",
             "minorgridcolor": "#C8D4E3",
             "startlinecolor": "#2a3f5f"
            },
            "baxis": {
             "endlinecolor": "#2a3f5f",
             "gridcolor": "#C8D4E3",
             "linecolor": "#C8D4E3",
             "minorgridcolor": "#C8D4E3",
             "startlinecolor": "#2a3f5f"
            },
            "type": "carpet"
           }
          ],
          "choropleth": [
           {
            "colorbar": {
             "outlinewidth": 0,
             "ticks": ""
            },
            "type": "choropleth"
           }
          ],
          "contour": [
           {
            "colorbar": {
             "outlinewidth": 0,
             "ticks": ""
            },
            "colorscale": [
             [
              0,
              "#0d0887"
             ],
             [
              0.1111111111111111,
              "#46039f"
             ],
             [
              0.2222222222222222,
              "#7201a8"
             ],
             [
              0.3333333333333333,
              "#9c179e"
             ],
             [
              0.4444444444444444,
              "#bd3786"
             ],
             [
              0.5555555555555556,
              "#d8576b"
             ],
             [
              0.6666666666666666,
              "#ed7953"
             ],
             [
              0.7777777777777778,
              "#fb9f3a"
             ],
             [
              0.8888888888888888,
              "#fdca26"
             ],
             [
              1,
              "#f0f921"
             ]
            ],
            "type": "contour"
           }
          ],
          "contourcarpet": [
           {
            "colorbar": {
             "outlinewidth": 0,
             "ticks": ""
            },
            "type": "contourcarpet"
           }
          ],
          "heatmap": [
           {
            "colorbar": {
             "outlinewidth": 0,
             "ticks": ""
            },
            "colorscale": [
             [
              0,
              "#0d0887"
             ],
             [
              0.1111111111111111,
              "#46039f"
             ],
             [
              0.2222222222222222,
              "#7201a8"
             ],
             [
              0.3333333333333333,
              "#9c179e"
             ],
             [
              0.4444444444444444,
              "#bd3786"
             ],
             [
              0.5555555555555556,
              "#d8576b"
             ],
             [
              0.6666666666666666,
              "#ed7953"
             ],
             [
              0.7777777777777778,
              "#fb9f3a"
             ],
             [
              0.8888888888888888,
              "#fdca26"
             ],
             [
              1,
              "#f0f921"
             ]
            ],
            "type": "heatmap"
           }
          ],
          "histogram": [
           {
            "marker": {
             "pattern": {
              "fillmode": "overlay",
              "size": 10,
              "solidity": 0.2
             }
            },
            "type": "histogram"
           }
          ],
          "histogram2d": [
           {
            "colorbar": {
             "outlinewidth": 0,
             "ticks": ""
            },
            "colorscale": [
             [
              0,
              "#0d0887"
             ],
             [
              0.1111111111111111,
              "#46039f"
             ],
             [
              0.2222222222222222,
              "#7201a8"
             ],
             [
              0.3333333333333333,
              "#9c179e"
             ],
             [
              0.4444444444444444,
              "#bd3786"
             ],
             [
              0.5555555555555556,
              "#d8576b"
             ],
             [
              0.6666666666666666,
              "#ed7953"
             ],
             [
              0.7777777777777778,
              "#fb9f3a"
             ],
             [
              0.8888888888888888,
              "#fdca26"
             ],
             [
              1,
              "#f0f921"
             ]
            ],
            "type": "histogram2d"
           }
          ],
          "histogram2dcontour": [
           {
            "colorbar": {
             "outlinewidth": 0,
             "ticks": ""
            },
            "colorscale": [
             [
              0,
              "#0d0887"
             ],
             [
              0.1111111111111111,
              "#46039f"
             ],
             [
              0.2222222222222222,
              "#7201a8"
             ],
             [
              0.3333333333333333,
              "#9c179e"
             ],
             [
              0.4444444444444444,
              "#bd3786"
             ],
             [
              0.5555555555555556,
              "#d8576b"
             ],
             [
              0.6666666666666666,
              "#ed7953"
             ],
             [
              0.7777777777777778,
              "#fb9f3a"
             ],
             [
              0.8888888888888888,
              "#fdca26"
             ],
             [
              1,
              "#f0f921"
             ]
            ],
            "type": "histogram2dcontour"
           }
          ],
          "mesh3d": [
           {
            "colorbar": {
             "outlinewidth": 0,
             "ticks": ""
            },
            "type": "mesh3d"
           }
          ],
          "parcoords": [
           {
            "line": {
             "colorbar": {
              "outlinewidth": 0,
              "ticks": ""
             }
            },
            "type": "parcoords"
           }
          ],
          "pie": [
           {
            "automargin": true,
            "type": "pie"
           }
          ],
          "scatter": [
           {
            "fillpattern": {
             "fillmode": "overlay",
             "size": 10,
             "solidity": 0.2
            },
            "type": "scatter"
           }
          ],
          "scatter3d": [
           {
            "line": {
             "colorbar": {
              "outlinewidth": 0,
              "ticks": ""
             }
            },
            "marker": {
             "colorbar": {
              "outlinewidth": 0,
              "ticks": ""
             }
            },
            "type": "scatter3d"
           }
          ],
          "scattercarpet": [
           {
            "marker": {
             "colorbar": {
              "outlinewidth": 0,
              "ticks": ""
             }
            },
            "type": "scattercarpet"
           }
          ],
          "scattergeo": [
           {
            "marker": {
             "colorbar": {
              "outlinewidth": 0,
              "ticks": ""
             }
            },
            "type": "scattergeo"
           }
          ],
          "scattergl": [
           {
            "marker": {
             "colorbar": {
              "outlinewidth": 0,
              "ticks": ""
             }
            },
            "type": "scattergl"
           }
          ],
          "scattermap": [
           {
            "marker": {
             "colorbar": {
              "outlinewidth": 0,
              "ticks": ""
             }
            },
            "type": "scattermap"
           }
          ],
          "scattermapbox": [
           {
            "marker": {
             "colorbar": {
              "outlinewidth": 0,
              "ticks": ""
             }
            },
            "type": "scattermapbox"
           }
          ],
          "scatterpolar": [
           {
            "marker": {
             "colorbar": {
              "outlinewidth": 0,
              "ticks": ""
             }
            },
            "type": "scatterpolar"
           }
          ],
          "scatterpolargl": [
           {
            "marker": {
             "colorbar": {
              "outlinewidth": 0,
              "ticks": ""
             }
            },
            "type": "scatterpolargl"
           }
          ],
          "scatterternary": [
           {
            "marker": {
             "colorbar": {
              "outlinewidth": 0,
              "ticks": ""
             }
            },
            "type": "scatterternary"
           }
          ],
          "surface": [
           {
            "colorbar": {
             "outlinewidth": 0,
             "ticks": ""
            },
            "colorscale": [
             [
              0,
              "#0d0887"
             ],
             [
              0.1111111111111111,
              "#46039f"
             ],
             [
              0.2222222222222222,
              "#7201a8"
             ],
             [
              0.3333333333333333,
              "#9c179e"
             ],
             [
              0.4444444444444444,
              "#bd3786"
             ],
             [
              0.5555555555555556,
              "#d8576b"
             ],
             [
              0.6666666666666666,
              "#ed7953"
             ],
             [
              0.7777777777777778,
              "#fb9f3a"
             ],
             [
              0.8888888888888888,
              "#fdca26"
             ],
             [
              1,
              "#f0f921"
             ]
            ],
            "type": "surface"
           }
          ],
          "table": [
           {
            "cells": {
             "fill": {
              "color": "#EBF0F8"
             },
             "line": {
              "color": "white"
             }
            },
            "header": {
             "fill": {
              "color": "#C8D4E3"
             },
             "line": {
              "color": "white"
             }
            },
            "type": "table"
           }
          ]
         },
         "layout": {
          "annotationdefaults": {
           "arrowcolor": "#2a3f5f",
           "arrowhead": 0,
           "arrowwidth": 1
          },
          "autotypenumbers": "strict",
          "coloraxis": {
           "colorbar": {
            "outlinewidth": 0,
            "ticks": ""
           }
          },
          "colorscale": {
           "diverging": [
            [
             0,
             "#8e0152"
            ],
            [
             0.1,
             "#c51b7d"
            ],
            [
             0.2,
             "#de77ae"
            ],
            [
             0.3,
             "#f1b6da"
            ],
            [
             0.4,
             "#fde0ef"
            ],
            [
             0.5,
             "#f7f7f7"
            ],
            [
             0.6,
             "#e6f5d0"
            ],
            [
             0.7,
             "#b8e186"
            ],
            [
             0.8,
             "#7fbc41"
            ],
            [
             0.9,
             "#4d9221"
            ],
            [
             1,
             "#276419"
            ]
           ],
           "sequential": [
            [
             0,
             "#0d0887"
            ],
            [
             0.1111111111111111,
             "#46039f"
            ],
            [
             0.2222222222222222,
             "#7201a8"
            ],
            [
             0.3333333333333333,
             "#9c179e"
            ],
            [
             0.4444444444444444,
             "#bd3786"
            ],
            [
             0.5555555555555556,
             "#d8576b"
            ],
            [
             0.6666666666666666,
             "#ed7953"
            ],
            [
             0.7777777777777778,
             "#fb9f3a"
            ],
            [
             0.8888888888888888,
             "#fdca26"
            ],
            [
             1,
             "#f0f921"
            ]
           ],
           "sequentialminus": [
            [
             0,
             "#0d0887"
            ],
            [
             0.1111111111111111,
             "#46039f"
            ],
            [
             0.2222222222222222,
             "#7201a8"
            ],
            [
             0.3333333333333333,
             "#9c179e"
            ],
            [
             0.4444444444444444,
             "#bd3786"
            ],
            [
             0.5555555555555556,
             "#d8576b"
            ],
            [
             0.6666666666666666,
             "#ed7953"
            ],
            [
             0.7777777777777778,
             "#fb9f3a"
            ],
            [
             0.8888888888888888,
             "#fdca26"
            ],
            [
             1,
             "#f0f921"
            ]
           ]
          },
          "colorway": [
           "#636efa",
           "#EF553B",
           "#00cc96",
           "#ab63fa",
           "#FFA15A",
           "#19d3f3",
           "#FF6692",
           "#B6E880",
           "#FF97FF",
           "#FECB52"
          ],
          "font": {
           "color": "#2a3f5f"
          },
          "geo": {
           "bgcolor": "white",
           "lakecolor": "white",
           "landcolor": "white",
           "showlakes": true,
           "showland": true,
           "subunitcolor": "#C8D4E3"
          },
          "hoverlabel": {
           "align": "left"
          },
          "hovermode": "closest",
          "mapbox": {
           "style": "light"
          },
          "paper_bgcolor": "white",
          "plot_bgcolor": "white",
          "polar": {
           "angularaxis": {
            "gridcolor": "#EBF0F8",
            "linecolor": "#EBF0F8",
            "ticks": ""
           },
           "bgcolor": "white",
           "radialaxis": {
            "gridcolor": "#EBF0F8",
            "linecolor": "#EBF0F8",
            "ticks": ""
           }
          },
          "scene": {
           "xaxis": {
            "backgroundcolor": "white",
            "gridcolor": "#DFE8F3",
            "gridwidth": 2,
            "linecolor": "#EBF0F8",
            "showbackground": true,
            "ticks": "",
            "zerolinecolor": "#EBF0F8"
           },
           "yaxis": {
            "backgroundcolor": "white",
            "gridcolor": "#DFE8F3",
            "gridwidth": 2,
            "linecolor": "#EBF0F8",
            "showbackground": true,
            "ticks": "",
            "zerolinecolor": "#EBF0F8"
           },
           "zaxis": {
            "backgroundcolor": "white",
            "gridcolor": "#DFE8F3",
            "gridwidth": 2,
            "linecolor": "#EBF0F8",
            "showbackground": true,
            "ticks": "",
            "zerolinecolor": "#EBF0F8"
           }
          },
          "shapedefaults": {
           "line": {
            "color": "#2a3f5f"
           }
          },
          "ternary": {
           "aaxis": {
            "gridcolor": "#DFE8F3",
            "linecolor": "#A2B1C6",
            "ticks": ""
           },
           "baxis": {
            "gridcolor": "#DFE8F3",
            "linecolor": "#A2B1C6",
            "ticks": ""
           },
           "bgcolor": "white",
           "caxis": {
            "gridcolor": "#DFE8F3",
            "linecolor": "#A2B1C6",
            "ticks": ""
           }
          },
          "title": {
           "x": 0.05
          },
          "xaxis": {
           "automargin": true,
           "gridcolor": "#EBF0F8",
           "linecolor": "#EBF0F8",
           "ticks": "",
           "title": {
            "standoff": 15
           },
           "zerolinecolor": "#EBF0F8",
           "zerolinewidth": 2
          },
          "yaxis": {
           "automargin": true,
           "gridcolor": "#EBF0F8",
           "linecolor": "#EBF0F8",
           "ticks": "",
           "title": {
            "standoff": 15
           },
           "zerolinecolor": "#EBF0F8",
           "zerolinewidth": 2
          }
         }
        },
        "title": {
         "font": {
          "color": "darkred",
          "family": "Arial Black",
          "size": 22
         },
         "text": "Content Uploaded per Year by Type",
         "x": 0.5,
         "xanchor": "center",
         "y": 0.95,
         "yanchor": "top"
        },
        "xaxis": {
         "anchor": "y",
         "domain": [
          0,
          1
         ],
         "linecolor": "black",
         "linewidth": 1,
         "showline": true,
         "tickangle": 45,
         "title": {
          "text": "Release Year"
         }
        },
        "yaxis": {
         "anchor": "x",
         "domain": [
          0,
          1
         ],
         "gridcolor": "lightgray",
         "showgrid": true,
         "title": {
          "text": "Number of Uploads"
         }
        }
       }
      }
     },
     "metadata": {},
     "output_type": "display_data"
    }
   ],
   "source": [
    "# Group the data\n",
    "df_grouped = df.groupby([\"release_year\", \"type\"]).size().reset_index(name=\"count\")\n",
    "\n",
    "# Plot stacked bar chart\n",
    "fig = px.bar(\n",
    "    df_grouped,\n",
    "    x=\"release_year\",\n",
    "    y=\"count\",\n",
    "    color=\"type\",\n",
    "    barmode=\"stack\",\n",
    "    text=\"count\",  # show values on bars\n",
    "    color_discrete_sequence=px.colors.qualitative.Set2  # nice professional colors\n",
    ")\n",
    "\n",
    "# Update layout for better readability\n",
    "fig.update_layout(\n",
    "    title={\n",
    "        \"text\": \"Content Uploaded per Year by Type\",\n",
    "        \"y\":0.95,\n",
    "        \"x\":0.5,\n",
    "        \"xanchor\": \"center\",\n",
    "        \"yanchor\": \"top\",\n",
    "        \"font\": dict(size=22, color=\"darkred\", family=\"Arial Black\")\n",
    "    },\n",
    "    xaxis=dict(\n",
    "        title=\"Release Year\",\n",
    "        tickangle=45,\n",
    "        showline=True,\n",
    "        linewidth=1,\n",
    "        linecolor=\"black\"\n",
    "    ),\n",
    "    yaxis=dict(\n",
    "        title=\"Number of Uploads\",\n",
    "        showgrid=True,\n",
    "        gridcolor=\"lightgray\"\n",
    "    ),\n",
    "    legend=dict(\n",
    "        title=\"Content Type\",\n",
    "        orientation=\"h\",\n",
    "        yanchor=\"bottom\",\n",
    "        y=1.02,\n",
    "        xanchor=\"center\",\n",
    "        x=0.5\n",
    "    ),\n",
    "    template=\"plotly_white\"\n",
    ")\n",
    "\n",
    "# Add better spacing\n",
    "fig.update_traces(texttemplate='%{text}', textposition='inside')\n",
    "\n",
    "fig.show()\n"
   ]
  },
  {
   "cell_type": "markdown",
   "id": "8dd0ba50-b1b6-46e0-9369-45090ade0d27",
   "metadata": {
    "jp-MarkdownHeadingCollapsed": true
   },
   "source": [
    "## If there's a temporal component, perform time series analysis to identify trends and patterns overtime.\n",
    "## Has the average duration of shows/movies increased or decreased over the years?"
   ]
  },
  {
   "cell_type": "markdown",
   "id": "b9ccdd95-47c8-4f4d-b296-b4ad011478f4",
   "metadata": {},
   "source": [
    "## Explore the length of movies or episodes and identify any trends.\n",
    "Question: Is there a trend between the total hours of content released and the year?\n",
    "\n",
    "Approach:\n",
    "\n",
    "Convert TV show durations (seasons) into an estimated total hours.\n",
    "\n",
    "Sum hours per year → compare trends."
   ]
  },
  {
   "cell_type": "code",
   "execution_count": 50,
   "id": "147dd290-428d-4092-aa61-3cdd65789c98",
   "metadata": {},
   "outputs": [
    {
     "data": {
      "text/html": [
       "<div>\n",
       "<style scoped>\n",
       "    .dataframe tbody tr th:only-of-type {\n",
       "        vertical-align: middle;\n",
       "    }\n",
       "\n",
       "    .dataframe tbody tr th {\n",
       "        vertical-align: top;\n",
       "    }\n",
       "\n",
       "    .dataframe thead th {\n",
       "        text-align: right;\n",
       "    }\n",
       "</style>\n",
       "<table border=\"1\" class=\"dataframe\">\n",
       "  <thead>\n",
       "    <tr style=\"text-align: right;\">\n",
       "      <th></th>\n",
       "      <th>show_id</th>\n",
       "      <th>type</th>\n",
       "      <th>title</th>\n",
       "      <th>director</th>\n",
       "      <th>cast</th>\n",
       "      <th>country</th>\n",
       "      <th>date_added</th>\n",
       "      <th>release_year</th>\n",
       "      <th>rating</th>\n",
       "      <th>duration</th>\n",
       "      <th>listed_in</th>\n",
       "      <th>description</th>\n",
       "      <th>added_year</th>\n",
       "      <th>day_added</th>\n",
       "      <th>duration_int</th>\n",
       "      <th>duration_type</th>\n",
       "    </tr>\n",
       "  </thead>\n",
       "  <tbody>\n",
       "    <tr>\n",
       "      <th>0</th>\n",
       "      <td>s1</td>\n",
       "      <td>Movie</td>\n",
       "      <td>Dick Johnson Is Dead</td>\n",
       "      <td>Kirsten Johnson</td>\n",
       "      <td>No cast Info</td>\n",
       "      <td>United States</td>\n",
       "      <td>2021-09-25</td>\n",
       "      <td>2020</td>\n",
       "      <td>PG-13</td>\n",
       "      <td>90 min</td>\n",
       "      <td>Documentaries</td>\n",
       "      <td>As her father nears the end of his life, filmm...</td>\n",
       "      <td>2021</td>\n",
       "      <td>2021</td>\n",
       "      <td>90</td>\n",
       "      <td>min</td>\n",
       "    </tr>\n",
       "    <tr>\n",
       "      <th>1</th>\n",
       "      <td>s2</td>\n",
       "      <td>TV Show</td>\n",
       "      <td>Blood &amp; Water</td>\n",
       "      <td>No Director</td>\n",
       "      <td>Ama Qamata, Khosi Ngema, Gail Mabalane, Thaban...</td>\n",
       "      <td>South Africa</td>\n",
       "      <td>2021-09-24</td>\n",
       "      <td>2021</td>\n",
       "      <td>TV-MA</td>\n",
       "      <td>2 Seasons</td>\n",
       "      <td>International TV Shows, TV Dramas, TV Mysteries</td>\n",
       "      <td>After crossing paths at a party, a Cape Town t...</td>\n",
       "      <td>2021</td>\n",
       "      <td>2021</td>\n",
       "      <td>2</td>\n",
       "      <td>Seasons</td>\n",
       "    </tr>\n",
       "    <tr>\n",
       "      <th>2</th>\n",
       "      <td>s3</td>\n",
       "      <td>TV Show</td>\n",
       "      <td>Ganglands</td>\n",
       "      <td>Julien Leclercq</td>\n",
       "      <td>Sami Bouajila, Tracy Gotoas, Samuel Jouy, Nabi...</td>\n",
       "      <td>Unknown</td>\n",
       "      <td>2021-09-24</td>\n",
       "      <td>2021</td>\n",
       "      <td>TV-MA</td>\n",
       "      <td>1 Season</td>\n",
       "      <td>Crime TV Shows, International TV Shows, TV Act...</td>\n",
       "      <td>To protect his family from a powerful drug lor...</td>\n",
       "      <td>2021</td>\n",
       "      <td>2021</td>\n",
       "      <td>1</td>\n",
       "      <td>Season</td>\n",
       "    </tr>\n",
       "    <tr>\n",
       "      <th>3</th>\n",
       "      <td>s4</td>\n",
       "      <td>TV Show</td>\n",
       "      <td>Jailbirds New Orleans</td>\n",
       "      <td>No Director</td>\n",
       "      <td>No cast Info</td>\n",
       "      <td>Unknown</td>\n",
       "      <td>2021-09-24</td>\n",
       "      <td>2021</td>\n",
       "      <td>TV-MA</td>\n",
       "      <td>1 Season</td>\n",
       "      <td>Docuseries, Reality TV</td>\n",
       "      <td>Feuds, flirtations and toilet talk go down amo...</td>\n",
       "      <td>2021</td>\n",
       "      <td>2021</td>\n",
       "      <td>1</td>\n",
       "      <td>Season</td>\n",
       "    </tr>\n",
       "    <tr>\n",
       "      <th>4</th>\n",
       "      <td>s5</td>\n",
       "      <td>TV Show</td>\n",
       "      <td>Kota Factory</td>\n",
       "      <td>No Director</td>\n",
       "      <td>Mayur More, Jitendra Kumar, Ranjan Raj, Alam K...</td>\n",
       "      <td>India</td>\n",
       "      <td>2021-09-24</td>\n",
       "      <td>2021</td>\n",
       "      <td>TV-MA</td>\n",
       "      <td>2 Seasons</td>\n",
       "      <td>International TV Shows, Romantic TV Shows, TV ...</td>\n",
       "      <td>In a city of coaching centers known to train I...</td>\n",
       "      <td>2021</td>\n",
       "      <td>2021</td>\n",
       "      <td>2</td>\n",
       "      <td>Seasons</td>\n",
       "    </tr>\n",
       "  </tbody>\n",
       "</table>\n",
       "</div>"
      ],
      "text/plain": [
       "  show_id     type                  title         director                                               cast        country date_added  release_year rating   duration                                          listed_in                                        description  added_year  day_added duration_int duration_type\n",
       "0      s1    Movie   Dick Johnson Is Dead  Kirsten Johnson                                       No cast Info  United States 2021-09-25          2020  PG-13     90 min                                      Documentaries  As her father nears the end of his life, filmm...        2021       2021           90           min\n",
       "1      s2  TV Show          Blood & Water      No Director  Ama Qamata, Khosi Ngema, Gail Mabalane, Thaban...   South Africa 2021-09-24          2021  TV-MA  2 Seasons    International TV Shows, TV Dramas, TV Mysteries  After crossing paths at a party, a Cape Town t...        2021       2021            2       Seasons\n",
       "2      s3  TV Show              Ganglands  Julien Leclercq  Sami Bouajila, Tracy Gotoas, Samuel Jouy, Nabi...        Unknown 2021-09-24          2021  TV-MA   1 Season  Crime TV Shows, International TV Shows, TV Act...  To protect his family from a powerful drug lor...        2021       2021            1        Season\n",
       "3      s4  TV Show  Jailbirds New Orleans      No Director                                       No cast Info        Unknown 2021-09-24          2021  TV-MA   1 Season                             Docuseries, Reality TV  Feuds, flirtations and toilet talk go down amo...        2021       2021            1        Season\n",
       "4      s5  TV Show           Kota Factory      No Director  Mayur More, Jitendra Kumar, Ranjan Raj, Alam K...          India 2021-09-24          2021  TV-MA  2 Seasons  International TV Shows, Romantic TV Shows, TV ...  In a city of coaching centers known to train I...        2021       2021            2       Seasons"
      ]
     },
     "execution_count": 50,
     "metadata": {},
     "output_type": "execute_result"
    }
   ],
   "source": [
    "df.head()"
   ]
  },
  {
   "cell_type": "markdown",
   "id": "144d4e68-265d-4b69-a61a-382fd429855b",
   "metadata": {},
   "source": [
    "## Investigate potential correlations between variables (e.g., ratings and duration)."
   ]
  },
  {
   "cell_type": "code",
   "execution_count": 51,
   "id": "0e2b29b7-143c-4918-a93f-7c02a09f6368",
   "metadata": {},
   "outputs": [
    {
     "data": {
      "text/plain": [
       "<Axes: >"
      ]
     },
     "execution_count": 51,
     "metadata": {},
     "output_type": "execute_result"
    },
    {
     "data": {
      "image/png": "[encoded data removed]",
      "text/plain": [
       "<Figure size 640x480 with 2 Axes>"
      ]
     },
     "metadata": {},
     "output_type": "display_data"
    }
   ],
   "source": [
    "## heatmap - used to show correlation between numerical features\n",
    "corr = df.select_dtypes(include = [\"int32\",\"int64\",\"float64\"]).corr()\n",
    "sns.heatmap(corr, annot = True, cmap =\"inferno\")\n"
   ]
  },
  {
   "cell_type": "code",
   "execution_count": 52,
   "id": "3a5cca7d-3a2c-40f8-acdd-f60658415ceb",
   "metadata": {},
   "outputs": [
    {
     "name": "stdout",
     "output_type": "stream",
     "text": [
      "<class 'pandas.core.frame.DataFrame'>\n",
      "RangeIndex: 8807 entries, 0 to 8806\n",
      "Data columns (total 16 columns):\n",
      " #   Column         Non-Null Count  Dtype         \n",
      "---  ------         --------------  -----         \n",
      " 0   show_id        8807 non-null   object        \n",
      " 1   type           8807 non-null   object        \n",
      " 2   title          8807 non-null   object        \n",
      " 3   director       8807 non-null   object        \n",
      " 4   cast           8807 non-null   object        \n",
      " 5   country        8807 non-null   object        \n",
      " 6   date_added     8807 non-null   datetime64[ns]\n",
      " 7   release_year   8807 non-null   int64         \n",
      " 8   rating         8803 non-null   object        \n",
      " 9   duration       8804 non-null   object        \n",
      " 10  listed_in      8807 non-null   object        \n",
      " 11  description    8807 non-null   object        \n",
      " 12  added_year     8807 non-null   int32         \n",
      " 13  day_added      8807 non-null   int32         \n",
      " 14  duration_int   8804 non-null   object        \n",
      " 15  duration_type  8804 non-null   object        \n",
      "dtypes: datetime64[ns](1), int32(2), int64(1), object(12)\n",
      "memory usage: 1.0+ MB\n"
     ]
    }
   ],
   "source": [
    "df.info()"
   ]
  },
  {
   "cell_type": "code",
   "execution_count": 53,
   "id": "fdb5bbb3-29b3-4047-897c-5decc02ed3ab",
   "metadata": {},
   "outputs": [],
   "source": [
    "duration_in_rating_mask = df[\"rating\"].str.contains(\"min\", na=False) ## separting values from rating column which has min\n",
    "## substitution of values\n",
    "df.loc[duration_in_rating_mask, \"duration\"] = df.loc[duration_in_rating_mask, \"rating\"]\n",
    "df[\"rating\"] = df[\"rating\"].replace([\"74 min\",\"84 min\",\"66 min\"], \"No rating\")"
   ]
  },
  {
   "cell_type": "code",
   "execution_count": 54,
   "id": "c7a08d34-4d9d-4114-8186-b4e4852ccf1e",
   "metadata": {},
   "outputs": [],
   "source": [
    "df[\"duration\"]=df[\"duration\"].fillna(df[\"duration\"].mode()[0])\n"
   ]
  },
  {
   "cell_type": "code",
   "execution_count": 55,
   "id": "3203b500-b3de-494f-bb73-c6650dcd60a6",
   "metadata": {},
   "outputs": [],
   "source": [
    "df[[\"duration_int\", \"duration_type\"]] = df[\"duration\"].str.extract(r'(\\d+)\\s*(\\w+)')"
   ]
  },
  {
   "cell_type": "code",
   "execution_count": 56,
   "id": "1b0c4949-d042-4331-bffc-bda3f3ef3108",
   "metadata": {},
   "outputs": [],
   "source": [
    "df[\"rating\"]= df[\"rating\"].fillna(\"No rating\")"
   ]
  },
  {
   "cell_type": "code",
   "execution_count": 57,
   "id": "99785425-9e65-42ab-904e-cf002c52c466",
   "metadata": {},
   "outputs": [],
   "source": [
    "df[\"duration_int\"] = df[\"duration_int\"].astype(int)"
   ]
  },
  {
   "cell_type": "markdown",
   "id": "703fc5a4-b8a0-4f85-a185-0bde19e290d2",
   "metadata": {},
   "source": [
    "## ✅ 16. Conclusions & Recommendations\n",
    "need to change duration Object to int \n",
    "Drop column day added and year "
   ]
  },
  {
   "cell_type": "code",
   "execution_count": 58,
   "id": "dbf05166-18c8-4194-afd0-0d639f4ec1d6",
   "metadata": {},
   "outputs": [],
   "source": [
    "df.drop(\"day_added\", axis = 1, inplace = True)"
   ]
  },
  {
   "cell_type": "code",
   "execution_count": null,
   "id": "6d71af2b-10eb-4ad7-86de-452c8ad4faeb",
   "metadata": {},
   "outputs": [],
   "source": []
  }
 ],
 "metadata": {
  "kernelspec": {
   "display_name": "Python 3 (ipykernel)",
   "language": "python",
   "name": "python3"
  },
  "language_info": {
   "codemirror_mode": {
    "name": "ipython",
    "version": 3
   },
   "file_extension": ".py",
   "mimetype": "text/x-python",
   "name": "python",
   "nbconvert_exporter": "python",
   "pygments_lexer": "ipython3",
   "version": "3.13.5"
  }
 },
 "nbformat": 4,
 "nbformat_minor": 5
}
